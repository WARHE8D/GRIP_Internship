{
 "cells": [
  {
   "cell_type": "code",
   "execution_count": 1,
   "metadata": {},
   "outputs": [],
   "source": [
    "import pandas as pd\n",
    "import numpy as np\n"
   ]
  },
  {
   "cell_type": "code",
   "execution_count": 2,
   "metadata": {},
   "outputs": [
    {
     "data": {
      "text/html": [
       "<div>\n",
       "<style scoped>\n",
       "    .dataframe tbody tr th:only-of-type {\n",
       "        vertical-align: middle;\n",
       "    }\n",
       "\n",
       "    .dataframe tbody tr th {\n",
       "        vertical-align: top;\n",
       "    }\n",
       "\n",
       "    .dataframe thead th {\n",
       "        text-align: right;\n",
       "    }\n",
       "</style>\n",
       "<table border=\"1\" class=\"dataframe\">\n",
       "  <thead>\n",
       "    <tr style=\"text-align: right;\">\n",
       "      <th></th>\n",
       "      <th>Date</th>\n",
       "      <th>Open</th>\n",
       "      <th>High</th>\n",
       "      <th>Low</th>\n",
       "      <th>Close</th>\n",
       "      <th>Adj Close</th>\n",
       "      <th>Volume</th>\n",
       "    </tr>\n",
       "  </thead>\n",
       "  <tbody>\n",
       "    <tr>\n",
       "      <th>0</th>\n",
       "      <td>2020-05-05</td>\n",
       "      <td>8912.832031</td>\n",
       "      <td>9062.415039</td>\n",
       "      <td>8856.827148</td>\n",
       "      <td>9003.070313</td>\n",
       "      <td>9003.070313</td>\n",
       "      <td>4.314846e+10</td>\n",
       "    </tr>\n",
       "    <tr>\n",
       "      <th>1</th>\n",
       "      <td>2020-05-06</td>\n",
       "      <td>9007.441406</td>\n",
       "      <td>9411.467773</td>\n",
       "      <td>8966.706055</td>\n",
       "      <td>9268.761719</td>\n",
       "      <td>9268.761719</td>\n",
       "      <td>4.937189e+10</td>\n",
       "    </tr>\n",
       "    <tr>\n",
       "      <th>2</th>\n",
       "      <td>2020-05-07</td>\n",
       "      <td>9261.895508</td>\n",
       "      <td>9992.664063</td>\n",
       "      <td>9138.322266</td>\n",
       "      <td>9951.518555</td>\n",
       "      <td>9951.518555</td>\n",
       "      <td>6.111270e+10</td>\n",
       "    </tr>\n",
       "    <tr>\n",
       "      <th>3</th>\n",
       "      <td>2020-05-08</td>\n",
       "      <td>9936.162109</td>\n",
       "      <td>9996.743164</td>\n",
       "      <td>9767.172852</td>\n",
       "      <td>9842.666016</td>\n",
       "      <td>9842.666016</td>\n",
       "      <td>5.178075e+10</td>\n",
       "    </tr>\n",
       "    <tr>\n",
       "      <th>4</th>\n",
       "      <td>2020-05-09</td>\n",
       "      <td>9840.906250</td>\n",
       "      <td>9913.863281</td>\n",
       "      <td>9580.644531</td>\n",
       "      <td>9593.896484</td>\n",
       "      <td>9593.896484</td>\n",
       "      <td>4.656612e+10</td>\n",
       "    </tr>\n",
       "    <tr>\n",
       "      <th>...</th>\n",
       "      <td>...</td>\n",
       "      <td>...</td>\n",
       "      <td>...</td>\n",
       "      <td>...</td>\n",
       "      <td>...</td>\n",
       "      <td>...</td>\n",
       "      <td>...</td>\n",
       "    </tr>\n",
       "    <tr>\n",
       "      <th>361</th>\n",
       "      <td>2021-05-01</td>\n",
       "      <td>57714.664063</td>\n",
       "      <td>58448.339844</td>\n",
       "      <td>57052.273438</td>\n",
       "      <td>57828.050781</td>\n",
       "      <td>57828.050781</td>\n",
       "      <td>4.283643e+10</td>\n",
       "    </tr>\n",
       "    <tr>\n",
       "      <th>362</th>\n",
       "      <td>2021-05-02</td>\n",
       "      <td>57825.863281</td>\n",
       "      <td>57902.593750</td>\n",
       "      <td>56141.906250</td>\n",
       "      <td>56631.078125</td>\n",
       "      <td>56631.078125</td>\n",
       "      <td>3.817741e+10</td>\n",
       "    </tr>\n",
       "    <tr>\n",
       "      <th>363</th>\n",
       "      <td>2021-05-03</td>\n",
       "      <td>56620.273438</td>\n",
       "      <td>58973.308594</td>\n",
       "      <td>56590.871094</td>\n",
       "      <td>57200.292969</td>\n",
       "      <td>57200.292969</td>\n",
       "      <td>5.171314e+10</td>\n",
       "    </tr>\n",
       "    <tr>\n",
       "      <th>364</th>\n",
       "      <td>2021-05-04</td>\n",
       "      <td>57214.179688</td>\n",
       "      <td>57214.179688</td>\n",
       "      <td>53191.425781</td>\n",
       "      <td>53333.539063</td>\n",
       "      <td>53333.539063</td>\n",
       "      <td>6.856471e+10</td>\n",
       "    </tr>\n",
       "    <tr>\n",
       "      <th>365</th>\n",
       "      <td>2021-05-05</td>\n",
       "      <td>53366.351563</td>\n",
       "      <td>55702.437500</td>\n",
       "      <td>53366.351563</td>\n",
       "      <td>55446.179688</td>\n",
       "      <td>55446.179688</td>\n",
       "      <td>7.090507e+10</td>\n",
       "    </tr>\n",
       "  </tbody>\n",
       "</table>\n",
       "<p>366 rows × 7 columns</p>\n",
       "</div>"
      ],
      "text/plain": [
       "           Date          Open          High           Low         Close  \\\n",
       "0    2020-05-05   8912.832031   9062.415039   8856.827148   9003.070313   \n",
       "1    2020-05-06   9007.441406   9411.467773   8966.706055   9268.761719   \n",
       "2    2020-05-07   9261.895508   9992.664063   9138.322266   9951.518555   \n",
       "3    2020-05-08   9936.162109   9996.743164   9767.172852   9842.666016   \n",
       "4    2020-05-09   9840.906250   9913.863281   9580.644531   9593.896484   \n",
       "..          ...           ...           ...           ...           ...   \n",
       "361  2021-05-01  57714.664063  58448.339844  57052.273438  57828.050781   \n",
       "362  2021-05-02  57825.863281  57902.593750  56141.906250  56631.078125   \n",
       "363  2021-05-03  56620.273438  58973.308594  56590.871094  57200.292969   \n",
       "364  2021-05-04  57214.179688  57214.179688  53191.425781  53333.539063   \n",
       "365  2021-05-05  53366.351563  55702.437500  53366.351563  55446.179688   \n",
       "\n",
       "        Adj Close        Volume  \n",
       "0     9003.070313  4.314846e+10  \n",
       "1     9268.761719  4.937189e+10  \n",
       "2     9951.518555  6.111270e+10  \n",
       "3     9842.666016  5.178075e+10  \n",
       "4     9593.896484  4.656612e+10  \n",
       "..            ...           ...  \n",
       "361  57828.050781  4.283643e+10  \n",
       "362  56631.078125  3.817741e+10  \n",
       "363  57200.292969  5.171314e+10  \n",
       "364  53333.539063  6.856471e+10  \n",
       "365  55446.179688  7.090507e+10  \n",
       "\n",
       "[366 rows x 7 columns]"
      ]
     },
     "execution_count": 2,
     "metadata": {},
     "output_type": "execute_result"
    }
   ],
   "source": [
    "df=pd.read_csv('C:/Users/SALMAN/Desktop/GRIP/BTC-USD.csv')\n",
    "df"
   ]
  },
  {
   "cell_type": "code",
   "execution_count": 3,
   "metadata": {},
   "outputs": [
    {
     "data": {
      "text/plain": [
       "Date         0\n",
       "Open         3\n",
       "High         3\n",
       "Low          3\n",
       "Close        3\n",
       "Adj Close    3\n",
       "Volume       3\n",
       "dtype: int64"
      ]
     },
     "execution_count": 3,
     "metadata": {},
     "output_type": "execute_result"
    }
   ],
   "source": [
    "df.isnull().sum()"
   ]
  },
  {
   "cell_type": "code",
   "execution_count": 4,
   "metadata": {},
   "outputs": [],
   "source": [
    "df=df.dropna()"
   ]
  },
  {
   "cell_type": "code",
   "execution_count": 5,
   "metadata": {},
   "outputs": [
    {
     "data": {
      "text/plain": [
       "Date         0\n",
       "Open         0\n",
       "High         0\n",
       "Low          0\n",
       "Close        0\n",
       "Adj Close    0\n",
       "Volume       0\n",
       "dtype: int64"
      ]
     },
     "execution_count": 5,
     "metadata": {},
     "output_type": "execute_result"
    }
   ],
   "source": [
    "df.isnull().sum()"
   ]
  },
  {
   "cell_type": "code",
   "execution_count": 6,
   "metadata": {},
   "outputs": [
    {
     "name": "stderr",
     "output_type": "stream",
     "text": [
      "<ipython-input-6-182e23b44254>:1: SettingWithCopyWarning: \n",
      "A value is trying to be set on a copy of a slice from a DataFrame.\n",
      "Try using .loc[row_indexer,col_indexer] = value instead\n",
      "\n",
      "See the caveats in the documentation: https://pandas.pydata.org/pandas-docs/stable/user_guide/indexing.html#returning-a-view-versus-a-copy\n",
      "  df['Date']=pd.to_datetime(df['Date'])\n"
     ]
    }
   ],
   "source": [
    "df['Date']=pd.to_datetime(df['Date'])"
   ]
  },
  {
   "cell_type": "code",
   "execution_count": 7,
   "metadata": {},
   "outputs": [],
   "source": [
    "#df.set_index('Date')"
   ]
  },
  {
   "cell_type": "code",
   "execution_count": 8,
   "metadata": {},
   "outputs": [],
   "source": [
    "#pip install chart_studio"
   ]
  },
  {
   "cell_type": "code",
   "execution_count": 9,
   "metadata": {},
   "outputs": [
    {
     "data": {
      "text/html": [
       "        <script type=\"text/javascript\">\n",
       "        window.PlotlyConfig = {MathJaxConfig: 'local'};\n",
       "        if (window.MathJax) {MathJax.Hub.Config({SVG: {font: \"STIX-Web\"}});}\n",
       "        if (typeof require !== 'undefined') {\n",
       "        require.undef(\"plotly\");\n",
       "        requirejs.config({\n",
       "            paths: {\n",
       "                'plotly': ['https://cdn.plot.ly/plotly-latest.min']\n",
       "            }\n",
       "        });\n",
       "        require(['plotly'], function(Plotly) {\n",
       "            window._Plotly = Plotly;\n",
       "        });\n",
       "        }\n",
       "        </script>\n",
       "        "
      ]
     },
     "metadata": {},
     "output_type": "display_data"
    }
   ],
   "source": [
    "import matplotlib.pyplot as plt\n",
    "%matplotlib inline\n",
    "\n",
    "import chart_studio.plotly as py\n",
    "import plotly.graph_objs as go\n",
    "from plotly.offline import plot\n",
    "\n",
    "from plotly.offline import download_plotlyjs,init_notebook_mode,plot,iplot\n",
    "init_notebook_mode(connected=True)"
   ]
  },
  {
   "cell_type": "code",
   "execution_count": 10,
   "metadata": {},
   "outputs": [
    {
     "data": {
      "text/html": [
       "<div>\n",
       "<style scoped>\n",
       "    .dataframe tbody tr th:only-of-type {\n",
       "        vertical-align: middle;\n",
       "    }\n",
       "\n",
       "    .dataframe tbody tr th {\n",
       "        vertical-align: top;\n",
       "    }\n",
       "\n",
       "    .dataframe thead th {\n",
       "        text-align: right;\n",
       "    }\n",
       "</style>\n",
       "<table border=\"1\" class=\"dataframe\">\n",
       "  <thead>\n",
       "    <tr style=\"text-align: right;\">\n",
       "      <th></th>\n",
       "      <th>Open</th>\n",
       "      <th>High</th>\n",
       "      <th>Low</th>\n",
       "      <th>Close</th>\n",
       "      <th>Adj Close</th>\n",
       "      <th>Volume</th>\n",
       "    </tr>\n",
       "  </thead>\n",
       "  <tbody>\n",
       "    <tr>\n",
       "      <th>count</th>\n",
       "      <td>363.000000</td>\n",
       "      <td>363.000000</td>\n",
       "      <td>363.000000</td>\n",
       "      <td>363.000000</td>\n",
       "      <td>363.000000</td>\n",
       "      <td>3.630000e+02</td>\n",
       "    </tr>\n",
       "    <tr>\n",
       "      <th>mean</th>\n",
       "      <td>24958.003177</td>\n",
       "      <td>25679.556038</td>\n",
       "      <td>24223.525689</td>\n",
       "      <td>25079.453908</td>\n",
       "      <td>25079.453908</td>\n",
       "      <td>4.182539e+10</td>\n",
       "    </tr>\n",
       "    <tr>\n",
       "      <th>std</th>\n",
       "      <td>18328.735178</td>\n",
       "      <td>18911.631792</td>\n",
       "      <td>17666.248775</td>\n",
       "      <td>18376.863577</td>\n",
       "      <td>18376.863577</td>\n",
       "      <td>2.638277e+10</td>\n",
       "    </tr>\n",
       "    <tr>\n",
       "      <th>min</th>\n",
       "      <td>8610.385742</td>\n",
       "      <td>8949.898438</td>\n",
       "      <td>8374.323242</td>\n",
       "      <td>8601.795898</td>\n",
       "      <td>8601.795898</td>\n",
       "      <td>1.225260e+10</td>\n",
       "    </tr>\n",
       "    <tr>\n",
       "      <th>25%</th>\n",
       "      <td>10348.881347</td>\n",
       "      <td>10578.026367</td>\n",
       "      <td>10184.119629</td>\n",
       "      <td>10366.351074</td>\n",
       "      <td>10366.351074</td>\n",
       "      <td>2.368586e+10</td>\n",
       "    </tr>\n",
       "    <tr>\n",
       "      <th>50%</th>\n",
       "      <td>14133.733398</td>\n",
       "      <td>15450.329102</td>\n",
       "      <td>14102.088867</td>\n",
       "      <td>14833.753906</td>\n",
       "      <td>14833.753906</td>\n",
       "      <td>3.650685e+10</td>\n",
       "    </tr>\n",
       "    <tr>\n",
       "      <th>75%</th>\n",
       "      <td>39021.767578</td>\n",
       "      <td>40513.457032</td>\n",
       "      <td>36853.599610</td>\n",
       "      <td>39226.669922</td>\n",
       "      <td>39226.669922</td>\n",
       "      <td>5.530828e+10</td>\n",
       "    </tr>\n",
       "    <tr>\n",
       "      <th>max</th>\n",
       "      <td>63523.753906</td>\n",
       "      <td>64863.097656</td>\n",
       "      <td>62208.964844</td>\n",
       "      <td>63503.457031</td>\n",
       "      <td>63503.457031</td>\n",
       "      <td>3.509679e+11</td>\n",
       "    </tr>\n",
       "  </tbody>\n",
       "</table>\n",
       "</div>"
      ],
      "text/plain": [
       "               Open          High           Low         Close     Adj Close  \\\n",
       "count    363.000000    363.000000    363.000000    363.000000    363.000000   \n",
       "mean   24958.003177  25679.556038  24223.525689  25079.453908  25079.453908   \n",
       "std    18328.735178  18911.631792  17666.248775  18376.863577  18376.863577   \n",
       "min     8610.385742   8949.898438   8374.323242   8601.795898   8601.795898   \n",
       "25%    10348.881347  10578.026367  10184.119629  10366.351074  10366.351074   \n",
       "50%    14133.733398  15450.329102  14102.088867  14833.753906  14833.753906   \n",
       "75%    39021.767578  40513.457032  36853.599610  39226.669922  39226.669922   \n",
       "max    63523.753906  64863.097656  62208.964844  63503.457031  63503.457031   \n",
       "\n",
       "             Volume  \n",
       "count  3.630000e+02  \n",
       "mean   4.182539e+10  \n",
       "std    2.638277e+10  \n",
       "min    1.225260e+10  \n",
       "25%    2.368586e+10  \n",
       "50%    3.650685e+10  \n",
       "75%    5.530828e+10  \n",
       "max    3.509679e+11  "
      ]
     },
     "execution_count": 10,
     "metadata": {},
     "output_type": "execute_result"
    }
   ],
   "source": [
    "df.describe()"
   ]
  },
  {
   "cell_type": "code",
   "execution_count": 11,
   "metadata": {},
   "outputs": [
    {
     "name": "stdout",
     "output_type": "stream",
     "text": [
      "dataset contains data from:-2020-05-05 00:00:00  2021-05-05 00:00:00\n",
      "total days = 365 days 00:00:00\n"
     ]
    }
   ],
   "source": [
    "print(f'dataset contains data from:-{df.Date.min()}  {df.Date.max()}')\n",
    "print(f'total days = {df.Date.max()-df.Date.min()}')"
   ]
  },
  {
   "cell_type": "code",
   "execution_count": 12,
   "metadata": {},
   "outputs": [
    {
     "data": {
      "text/plain": [
       "<matplotlib.axes._subplots.AxesSubplot at 0x1e38593f040>"
      ]
     },
     "execution_count": 12,
     "metadata": {},
     "output_type": "execute_result"
    },
    {
     "data": {
      "image/png": "[encoded data removed]",
      "text/plain": [
       "<Figure size 432x288 with 1 Axes>"
      ]
     },
     "metadata": {
      "needs_background": "light"
     },
     "output_type": "display_data"
    }
   ],
   "source": [
    "df[['Open','High','Low','Close','Adj Close']].plot(kind='box')"
   ]
  },
  {
   "cell_type": "code",
   "execution_count": 13,
   "metadata": {},
   "outputs": [],
   "source": [
    "lyout=go.Layout(title='Stock Prices of Bitcoin',\n",
    "                \n",
    "                xaxis=dict(title='Date', titlefont=dict(size=18,color='#7f7f7f'))\n",
    "                \n",
    "                ,yaxis=dict(title='Price',titlefont=dict(size=18,color='#7f7f7f')))\n",
    "\n",
    "bit_data=[{'x':df['Date'],'y':df['Close']}]\n",
    "plot=go.Figure(data=bit_data,layout=lyout)"
   ]
  },
  {
   "cell_type": "code",
   "execution_count": 14,
   "metadata": {},
   "outputs": [
    {
     "data": {
      "application/vnd.plotly.v1+json": {
       "config": {
        "linkText": "Export to plot.ly",
        "plotlyServerURL": "https://plot.ly",
        "showLink": false
       },
       "data": [
        {
         "type": "scatter",
         "x": [
          "2020-05-05T00:00:00",
          "2020-05-06T00:00:00",
          "2020-05-07T00:00:00",
          "2020-05-08T00:00:00",
          "2020-05-09T00:00:00",
          "2020-05-10T00:00:00",
          "2020-05-11T00:00:00",
          "2020-05-12T00:00:00",
          "2020-05-13T00:00:00",
          "2020-05-14T00:00:00",
          "2020-05-15T00:00:00",
          "2020-05-16T00:00:00",
          "2020-05-17T00:00:00",
          "2020-05-18T00:00:00",
          "2020-05-19T00:00:00",
          "2020-05-20T00:00:00",
          "2020-05-21T00:00:00",
          "2020-05-22T00:00:00",
          "2020-05-23T00:00:00",
          "2020-05-24T00:00:00",
          "2020-05-25T00:00:00",
          "2020-05-26T00:00:00",
          "2020-05-27T00:00:00",
          "2020-05-28T00:00:00",
          "2020-05-29T00:00:00",
          "2020-05-30T00:00:00",
          "2020-05-31T00:00:00",
          "2020-06-01T00:00:00",
          "2020-06-02T00:00:00",
          "2020-06-03T00:00:00",
          "2020-06-04T00:00:00",
          "2020-06-05T00:00:00",
          "2020-06-06T00:00:00",
          "2020-06-07T00:00:00",
          "2020-06-08T00:00:00",
          "2020-06-09T00:00:00",
          "2020-06-10T00:00:00",
          "2020-06-11T00:00:00",
          "2020-06-12T00:00:00",
          "2020-06-13T00:00:00",
          "2020-06-14T00:00:00",
          "2020-06-15T00:00:00",
          "2020-06-16T00:00:00",
          "2020-06-17T00:00:00",
          "2020-06-18T00:00:00",
          "2020-06-19T00:00:00",
          "2020-06-20T00:00:00",
          "2020-06-21T00:00:00",
          "2020-06-22T00:00:00",
          "2020-06-23T00:00:00",
          "2020-06-24T00:00:00",
          "2020-06-25T00:00:00",
          "2020-06-26T00:00:00",
          "2020-06-27T00:00:00",
          "2020-06-28T00:00:00",
          "2020-06-29T00:00:00",
          "2020-06-30T00:00:00",
          "2020-07-01T00:00:00",
          "2020-07-02T00:00:00",
          "2020-07-03T00:00:00",
          "2020-07-04T00:00:00",
          "2020-07-05T00:00:00",
          "2020-07-06T00:00:00",
          "2020-07-07T00:00:00",
          "2020-07-08T00:00:00",
          "2020-07-09T00:00:00",
          "2020-07-10T00:00:00",
          "2020-07-11T00:00:00",
          "2020-07-12T00:00:00",
          "2020-07-13T00:00:00",
          "2020-07-14T00:00:00",
          "2020-07-15T00:00:00",
          "2020-07-16T00:00:00",
          "2020-07-17T00:00:00",
          "2020-07-18T00:00:00",
          "2020-07-19T00:00:00",
          "2020-07-20T00:00:00",
          "2020-07-21T00:00:00",
          "2020-07-22T00:00:00",
          "2020-07-23T00:00:00",
          "2020-07-24T00:00:00",
          "2020-07-25T00:00:00",
          "2020-07-26T00:00:00",
          "2020-07-27T00:00:00",
          "2020-07-28T00:00:00",
          "2020-07-29T00:00:00",
          "2020-07-30T00:00:00",
          "2020-07-31T00:00:00",
          "2020-08-01T00:00:00",
          "2020-08-02T00:00:00",
          "2020-08-03T00:00:00",
          "2020-08-04T00:00:00",
          "2020-08-05T00:00:00",
          "2020-08-06T00:00:00",
          "2020-08-07T00:00:00",
          "2020-08-08T00:00:00",
          "2020-08-09T00:00:00",
          "2020-08-10T00:00:00",
          "2020-08-11T00:00:00",
          "2020-08-12T00:00:00",
          "2020-08-13T00:00:00",
          "2020-08-14T00:00:00",
          "2020-08-15T00:00:00",
          "2020-08-16T00:00:00",
          "2020-08-17T00:00:00",
          "2020-08-18T00:00:00",
          "2020-08-19T00:00:00",
          "2020-08-20T00:00:00",
          "2020-08-21T00:00:00",
          "2020-08-22T00:00:00",
          "2020-08-23T00:00:00",
          "2020-08-24T00:00:00",
          "2020-08-25T00:00:00",
          "2020-08-26T00:00:00",
          "2020-08-27T00:00:00",
          "2020-08-28T00:00:00",
          "2020-08-29T00:00:00",
          "2020-08-30T00:00:00",
          "2020-08-31T00:00:00",
          "2020-09-01T00:00:00",
          "2020-09-02T00:00:00",
          "2020-09-03T00:00:00",
          "2020-09-04T00:00:00",
          "2020-09-05T00:00:00",
          "2020-09-06T00:00:00",
          "2020-09-07T00:00:00",
          "2020-09-08T00:00:00",
          "2020-09-09T00:00:00",
          "2020-09-10T00:00:00",
          "2020-09-11T00:00:00",
          "2020-09-12T00:00:00",
          "2020-09-13T00:00:00",
          "2020-09-14T00:00:00",
          "2020-09-15T00:00:00",
          "2020-09-16T00:00:00",
          "2020-09-17T00:00:00",
          "2020-09-18T00:00:00",
          "2020-09-19T00:00:00",
          "2020-09-20T00:00:00",
          "2020-09-21T00:00:00",
          "2020-09-22T00:00:00",
          "2020-09-23T00:00:00",
          "2020-09-24T00:00:00",
          "2020-09-25T00:00:00",
          "2020-09-26T00:00:00",
          "2020-09-27T00:00:00",
          "2020-09-28T00:00:00",
          "2020-09-29T00:00:00",
          "2020-09-30T00:00:00",
          "2020-10-01T00:00:00",
          "2020-10-02T00:00:00",
          "2020-10-03T00:00:00",
          "2020-10-04T00:00:00",
          "2020-10-05T00:00:00",
          "2020-10-06T00:00:00",
          "2020-10-07T00:00:00",
          "2020-10-08T00:00:00",
          "2020-10-10T00:00:00",
          "2020-10-11T00:00:00",
          "2020-10-14T00:00:00",
          "2020-10-15T00:00:00",
          "2020-10-16T00:00:00",
          "2020-10-17T00:00:00",
          "2020-10-18T00:00:00",
          "2020-10-19T00:00:00",
          "2020-10-20T00:00:00",
          "2020-10-21T00:00:00",
          "2020-10-22T00:00:00",
          "2020-10-23T00:00:00",
          "2020-10-24T00:00:00",
          "2020-10-25T00:00:00",
          "2020-10-26T00:00:00",
          "2020-10-27T00:00:00",
          "2020-10-28T00:00:00",
          "2020-10-29T00:00:00",
          "2020-10-30T00:00:00",
          "2020-10-31T00:00:00",
          "2020-11-01T00:00:00",
          "2020-11-02T00:00:00",
          "2020-11-03T00:00:00",
          "2020-11-04T00:00:00",
          "2020-11-05T00:00:00",
          "2020-11-06T00:00:00",
          "2020-11-07T00:00:00",
          "2020-11-08T00:00:00",
          "2020-11-09T00:00:00",
          "2020-11-10T00:00:00",
          "2020-11-11T00:00:00",
          "2020-11-12T00:00:00",
          "2020-11-13T00:00:00",
          "2020-11-14T00:00:00",
          "2020-11-15T00:00:00",
          "2020-11-16T00:00:00",
          "2020-11-17T00:00:00",
          "2020-11-18T00:00:00",
          "2020-11-19T00:00:00",
          "2020-11-20T00:00:00",
          "2020-11-21T00:00:00",
          "2020-11-22T00:00:00",
          "2020-11-23T00:00:00",
          "2020-11-24T00:00:00",
          "2020-11-25T00:00:00",
          "2020-11-26T00:00:00",
          "2020-11-27T00:00:00",
          "2020-11-28T00:00:00",
          "2020-11-29T00:00:00",
          "2020-11-30T00:00:00",
          "2020-12-01T00:00:00",
          "2020-12-02T00:00:00",
          "2020-12-03T00:00:00",
          "2020-12-04T00:00:00",
          "2020-12-05T00:00:00",
          "2020-12-06T00:00:00",
          "2020-12-07T00:00:00",
          "2020-12-08T00:00:00",
          "2020-12-09T00:00:00",
          "2020-12-10T00:00:00",
          "2020-12-11T00:00:00",
          "2020-12-12T00:00:00",
          "2020-12-13T00:00:00",
          "2020-12-14T00:00:00",
          "2020-12-15T00:00:00",
          "2020-12-16T00:00:00",
          "2020-12-17T00:00:00",
          "2020-12-18T00:00:00",
          "2020-12-19T00:00:00",
          "2020-12-20T00:00:00",
          "2020-12-21T00:00:00",
          "2020-12-22T00:00:00",
          "2020-12-23T00:00:00",
          "2020-12-24T00:00:00",
          "2020-12-25T00:00:00",
          "2020-12-26T00:00:00",
          "2020-12-27T00:00:00",
          "2020-12-28T00:00:00",
          "2020-12-29T00:00:00",
          "2020-12-30T00:00:00",
          "2020-12-31T00:00:00",
          "2021-01-01T00:00:00",
          "2021-01-02T00:00:00",
          "2021-01-03T00:00:00",
          "2021-01-04T00:00:00",
          "2021-01-05T00:00:00",
          "2021-01-06T00:00:00",
          "2021-01-07T00:00:00",
          "2021-01-08T00:00:00",
          "2021-01-09T00:00:00",
          "2021-01-10T00:00:00",
          "2021-01-11T00:00:00",
          "2021-01-12T00:00:00",
          "2021-01-13T00:00:00",
          "2021-01-14T00:00:00",
          "2021-01-15T00:00:00",
          "2021-01-16T00:00:00",
          "2021-01-17T00:00:00",
          "2021-01-18T00:00:00",
          "2021-01-19T00:00:00",
          "2021-01-20T00:00:00",
          "2021-01-21T00:00:00",
          "2021-01-22T00:00:00",
          "2021-01-23T00:00:00",
          "2021-01-24T00:00:00",
          "2021-01-25T00:00:00",
          "2021-01-26T00:00:00",
          "2021-01-27T00:00:00",
          "2021-01-28T00:00:00",
          "2021-01-29T00:00:00",
          "2021-01-30T00:00:00",
          "2021-01-31T00:00:00",
          "2021-02-01T00:00:00",
          "2021-02-02T00:00:00",
          "2021-02-03T00:00:00",
          "2021-02-04T00:00:00",
          "2021-02-05T00:00:00",
          "2021-02-06T00:00:00",
          "2021-02-07T00:00:00",
          "2021-02-08T00:00:00",
          "2021-02-09T00:00:00",
          "2021-02-10T00:00:00",
          "2021-02-11T00:00:00",
          "2021-02-12T00:00:00",
          "2021-02-13T00:00:00",
          "2021-02-14T00:00:00",
          "2021-02-15T00:00:00",
          "2021-02-16T00:00:00",
          "2021-02-17T00:00:00",
          "2021-02-18T00:00:00",
          "2021-02-19T00:00:00",
          "2021-02-20T00:00:00",
          "2021-02-21T00:00:00",
          "2021-02-22T00:00:00",
          "2021-02-23T00:00:00",
          "2021-02-24T00:00:00",
          "2021-02-25T00:00:00",
          "2021-02-26T00:00:00",
          "2021-02-27T00:00:00",
          "2021-02-28T00:00:00",
          "2021-03-01T00:00:00",
          "2021-03-02T00:00:00",
          "2021-03-03T00:00:00",
          "2021-03-04T00:00:00",
          "2021-03-05T00:00:00",
          "2021-03-06T00:00:00",
          "2021-03-07T00:00:00",
          "2021-03-08T00:00:00",
          "2021-03-09T00:00:00",
          "2021-03-10T00:00:00",
          "2021-03-11T00:00:00",
          "2021-03-12T00:00:00",
          "2021-03-13T00:00:00",
          "2021-03-14T00:00:00",
          "2021-03-15T00:00:00",
          "2021-03-16T00:00:00",
          "2021-03-17T00:00:00",
          "2021-03-18T00:00:00",
          "2021-03-19T00:00:00",
          "2021-03-20T00:00:00",
          "2021-03-21T00:00:00",
          "2021-03-22T00:00:00",
          "2021-03-23T00:00:00",
          "2021-03-24T00:00:00",
          "2021-03-25T00:00:00",
          "2021-03-26T00:00:00",
          "2021-03-27T00:00:00",
          "2021-03-28T00:00:00",
          "2021-03-29T00:00:00",
          "2021-03-30T00:00:00",
          "2021-03-31T00:00:00",
          "2021-04-01T00:00:00",
          "2021-04-02T00:00:00",
          "2021-04-03T00:00:00",
          "2021-04-04T00:00:00",
          "2021-04-05T00:00:00",
          "2021-04-06T00:00:00",
          "2021-04-07T00:00:00",
          "2021-04-08T00:00:00",
          "2021-04-09T00:00:00",
          "2021-04-10T00:00:00",
          "2021-04-11T00:00:00",
          "2021-04-12T00:00:00",
          "2021-04-13T00:00:00",
          "2021-04-14T00:00:00",
          "2021-04-15T00:00:00",
          "2021-04-16T00:00:00",
          "2021-04-17T00:00:00",
          "2021-04-18T00:00:00",
          "2021-04-19T00:00:00",
          "2021-04-20T00:00:00",
          "2021-04-21T00:00:00",
          "2021-04-22T00:00:00",
          "2021-04-23T00:00:00",
          "2021-04-24T00:00:00",
          "2021-04-25T00:00:00",
          "2021-04-26T00:00:00",
          "2021-04-27T00:00:00",
          "2021-04-28T00:00:00",
          "2021-04-29T00:00:00",
          "2021-04-30T00:00:00",
          "2021-05-01T00:00:00",
          "2021-05-02T00:00:00",
          "2021-05-03T00:00:00",
          "2021-05-04T00:00:00",
          "2021-05-05T00:00:00"
         ],
         "y": [
          9003.070313,
          9268.761719,
          9951.518555,
          9842.666016,
          9593.896484,
          8756.430664,
          8601.795898,
          8804.477539,
          9269.987305,
          9733.72168,
          9328.197266,
          9377.013672,
          9670.739258,
          9726.575195,
          9729.038086,
          9522.981445,
          9081.761719,
          9182.577148,
          9209.287109,
          8790.368164,
          8906.93457,
          8835.052734,
          9181.017578,
          9525.750977,
          9439.124023,
          9700.414063,
          9461.058594,
          10167.268555,
          9529.803711,
          9656.717773,
          9800.636719,
          9665.533203,
          9653.679688,
          9758.852539,
          9771.489258,
          9795.700195,
          9870.094727,
          9321.78125,
          9480.84375,
          9475.277344,
          9386.788086,
          9450.702148,
          9538.024414,
          9480.254883,
          9411.84082,
          9288.018555,
          9332.34082,
          9303.629883,
          9648.717773,
          9629.658203,
          9313.610352,
          9264.813477,
          9162.917969,
          9045.390625,
          9143.582031,
          9190.854492,
          9137.993164,
          9228.325195,
          9123.410156,
          9087.303711,
          9132.488281,
          9073.942383,
          9375.474609,
          9252.277344,
          9428.333008,
          9277.967773,
          9278.807617,
          9240.34668,
          9276.5,
          9243.614258,
          9243.213867,
          9192.836914,
          9132.227539,
          9151.392578,
          9159.040039,
          9185.817383,
          9164.231445,
          9374.887695,
          9525.363281,
          9581.072266,
          9536.892578,
          9677.113281,
          9905.166992,
          10990.873047,
          10912.823242,
          11100.467773,
          11111.213867,
          11323.466797,
          11759.592773,
          11053.614258,
          11246.348633,
          11205.892578,
          11747.022461,
          11779.773438,
          11601.472656,
          11754.045898,
          11675.739258,
          11878.111328,
          11410.525391,
          11584.93457,
          11784.137695,
          11768.871094,
          11865.698242,
          11892.803711,
          12254.402344,
          11991.233398,
          11758.283203,
          11878.37207,
          11592.489258,
          11681.825195,
          11664.847656,
          11774.595703,
          11366.134766,
          11488.363281,
          11323.397461,
          11542.5,
          11506.865234,
          11711.505859,
          11680.820313,
          11970.478516,
          11414.03418,
          10245.296875,
          10511.813477,
          10169.567383,
          10280.351563,
          10369.563477,
          10131.516602,
          10242.347656,
          10363.138672,
          10400.915039,
          10442.170898,
          10323.755859,
          10680.837891,
          10796.951172,
          10974.905273,
          10948.990234,
          10944.585938,
          11094.34668,
          10938.271484,
          10462.259766,
          10538.459961,
          10225.864258,
          10745.548828,
          10702.290039,
          10754.4375,
          10774.426758,
          10721.327148,
          10848.830078,
          10787.618164,
          10623.330078,
          10585.164063,
          10565.493164,
          10684.428711,
          10804.000977,
          10621.664063,
          10679.136719,
          10923.62793,
          11296.361328,
          11384.181641,
          11429.506836,
          11495.349609,
          11322.123047,
          11358.101563,
          11483.359375,
          11742.037109,
          11916.334961,
          12823.689453,
          12965.891602,
          12931.539063,
          13108.0625,
          13031.173828,
          13075.248047,
          13654.21875,
          13271.285156,
          13437.882813,
          13546.522461000002,
          13780.995116999999,
          13737.109375,
          13550.489258000001,
          13950.300781,
          14133.707031,
          15579.848633000001,
          15565.880859,
          14833.753906,
          15479.567383000001,
          15332.31543,
          15290.902344,
          15701.339844,
          16276.34375,
          16317.808594,
          16068.138672,
          15955.587891,
          16716.111328,
          17645.40625,
          17804.005859,
          17817.089844,
          18621.314453,
          18642.232422,
          18370.001953,
          18364.121094,
          19107.464844,
          18732.121094,
          17150.623047,
          17108.402344,
          17717.414063,
          18177.484375,
          19625.835938,
          18802.998047,
          19201.091797,
          19445.398438,
          18699.765625,
          19154.230469,
          19345.121094,
          19191.630859,
          18321.144531,
          18553.916016,
          18264.992188,
          18058.904297,
          18803.65625,
          19142.382813,
          19246.644531,
          19417.076172,
          21310.597656,
          22805.162109,
          23137.960938,
          23869.832031,
          23477.294922,
          22803.082031,
          23783.029297,
          23241.345703,
          23735.949219,
          24664.791016,
          26437.037109,
          26272.294922,
          27084.808594,
          27362.4375,
          28840.953125,
          29001.720702999995,
          29374.152344,
          32127.267577999995,
          32782.023438,
          31971.914063,
          33992.429688,
          36824.363281,
          39371.042969,
          40797.609375,
          40254.546875,
          38356.441406,
          35566.65625,
          33922.960938,
          37316.359375,
          39187.328125,
          36825.367188,
          36178.140625,
          35791.277344,
          36630.074219,
          36069.804688,
          35547.75,
          30825.699219,
          33005.761719,
          32067.642577999995,
          32289.378906,
          32366.392577999995,
          32569.849608999997,
          30432.546875,
          31649.605469,
          34316.386719,
          34269.523438,
          33114.359375,
          33537.175781,
          35510.289063,
          37472.089844,
          36926.066406,
          38144.308594,
          39266.011719,
          38903.441406,
          46196.464844,
          46481.105469,
          44918.183594,
          47909.332031,
          47504.851563,
          47105.515625,
          48717.289063,
          47945.058594,
          49199.871094,
          52149.007813,
          51679.796875,
          55888.132813,
          56099.51953099999,
          57539.945313,
          54207.320313,
          48824.425781,
          49705.332031,
          47093.851563,
          46339.761719,
          46188.453125,
          45137.769531,
          49631.242188,
          48378.988281,
          50538.242188,
          48561.167969,
          48927.304688,
          48912.382813,
          51206.691406,
          52246.523438,
          54824.117188,
          56008.55078099999,
          57805.12109400001,
          57332.08984400001,
          61243.085938,
          59302.31640599999,
          55907.19921900001,
          56804.90234400001,
          58870.89453099999,
          57858.921875,
          58346.65234400001,
          58313.64453099999,
          57523.421875,
          54529.14453099999,
          54738.945313,
          52774.265625,
          51704.160156,
          55137.3125,
          55973.51171900001,
          55950.74609400001,
          57750.19921900001,
          58917.69140599999,
          58918.83203099999,
          59095.80859400001,
          59384.3125,
          57603.890625,
          58758.554688,
          59057.87890599999,
          58192.359375,
          56048.9375,
          58323.953125,
          58245.00390599999,
          59793.234375,
          60204.96484400001,
          59893.453125,
          63503.45703099999,
          63109.695313,
          63314.01171900001,
          61572.789063,
          60683.820313,
          56216.18359400001,
          55724.265625,
          56473.03125,
          53906.08984400001,
          51762.273438,
          51093.652344,
          50050.867188,
          49004.253906,
          54021.75390599999,
          55033.117188,
          54824.703125,
          53555.109375,
          57750.17578099999,
          57828.05078099999,
          56631.078125,
          57200.29296900001,
          53333.539063,
          55446.179688
         ]
        }
       ],
       "layout": {
        "template": {
         "data": {
          "bar": [
           {
            "error_x": {
             "color": "#2a3f5f"
            },
            "error_y": {
             "color": "#2a3f5f"
            },
            "marker": {
             "line": {
              "color": "#E5ECF6",
              "width": 0.5
             }
            },
            "type": "bar"
           }
          ],
          "barpolar": [
           {
            "marker": {
             "line": {
              "color": "#E5ECF6",
              "width": 0.5
             }
            },
            "type": "barpolar"
           }
          ],
          "carpet": [
           {
            "aaxis": {
             "endlinecolor": "#2a3f5f",
             "gridcolor": "white",
             "linecolor": "white",
             "minorgridcolor": "white",
             "startlinecolor": "#2a3f5f"
            },
            "baxis": {
             "endlinecolor": "#2a3f5f",
             "gridcolor": "white",
             "linecolor": "white",
             "minorgridcolor": "white",
             "startlinecolor": "#2a3f5f"
            },
            "type": "carpet"
           }
          ],
          "choropleth": [
           {
            "colorbar": {
             "outlinewidth": 0,
             "ticks": ""
            },
            "type": "choropleth"
           }
          ],
          "contour": [
           {
            "colorbar": {
             "outlinewidth": 0,
             "ticks": ""
            },
            "colorscale": [
             [
              0,
              "#0d0887"
             ],
             [
              0.1111111111111111,
              "#46039f"
             ],
             [
              0.2222222222222222,
              "#7201a8"
             ],
             [
              0.3333333333333333,
              "#9c179e"
             ],
             [
              0.4444444444444444,
              "#bd3786"
             ],
             [
              0.5555555555555556,
              "#d8576b"
             ],
             [
              0.6666666666666666,
              "#ed7953"
             ],
             [
              0.7777777777777778,
              "#fb9f3a"
             ],
             [
              0.8888888888888888,
              "#fdca26"
             ],
             [
              1,
              "#f0f921"
             ]
            ],
            "type": "contour"
           }
          ],
          "contourcarpet": [
           {
            "colorbar": {
             "outlinewidth": 0,
             "ticks": ""
            },
            "type": "contourcarpet"
           }
          ],
          "heatmap": [
           {
            "colorbar": {
             "outlinewidth": 0,
             "ticks": ""
            },
            "colorscale": [
             [
              0,
              "#0d0887"
             ],
             [
              0.1111111111111111,
              "#46039f"
             ],
             [
              0.2222222222222222,
              "#7201a8"
             ],
             [
              0.3333333333333333,
              "#9c179e"
             ],
             [
              0.4444444444444444,
              "#bd3786"
             ],
             [
              0.5555555555555556,
              "#d8576b"
             ],
             [
              0.6666666666666666,
              "#ed7953"
             ],
             [
              0.7777777777777778,
              "#fb9f3a"
             ],
             [
              0.8888888888888888,
              "#fdca26"
             ],
             [
              1,
              "#f0f921"
             ]
            ],
            "type": "heatmap"
           }
          ],
          "heatmapgl": [
           {
            "colorbar": {
             "outlinewidth": 0,
             "ticks": ""
            },
            "colorscale": [
             [
              0,
              "#0d0887"
             ],
             [
              0.1111111111111111,
              "#46039f"
             ],
             [
              0.2222222222222222,
              "#7201a8"
             ],
             [
              0.3333333333333333,
              "#9c179e"
             ],
             [
              0.4444444444444444,
              "#bd3786"
             ],
             [
              0.5555555555555556,
              "#d8576b"
             ],
             [
              0.6666666666666666,
              "#ed7953"
             ],
             [
              0.7777777777777778,
              "#fb9f3a"
             ],
             [
              0.8888888888888888,
              "#fdca26"
             ],
             [
              1,
              "#f0f921"
             ]
            ],
            "type": "heatmapgl"
           }
          ],
          "histogram": [
           {
            "marker": {
             "colorbar": {
              "outlinewidth": 0,
              "ticks": ""
             }
            },
            "type": "histogram"
           }
          ],
          "histogram2d": [
           {
            "colorbar": {
             "outlinewidth": 0,
             "ticks": ""
            },
            "colorscale": [
             [
              0,
              "#0d0887"
             ],
             [
              0.1111111111111111,
              "#46039f"
             ],
             [
              0.2222222222222222,
              "#7201a8"
             ],
             [
              0.3333333333333333,
              "#9c179e"
             ],
             [
              0.4444444444444444,
              "#bd3786"
             ],
             [
              0.5555555555555556,
              "#d8576b"
             ],
             [
              0.6666666666666666,
              "#ed7953"
             ],
             [
              0.7777777777777778,
              "#fb9f3a"
             ],
             [
              0.8888888888888888,
              "#fdca26"
             ],
             [
              1,
              "#f0f921"
             ]
            ],
            "type": "histogram2d"
           }
          ],
          "histogram2dcontour": [
           {
            "colorbar": {
             "outlinewidth": 0,
             "ticks": ""
            },
            "colorscale": [
             [
              0,
              "#0d0887"
             ],
             [
              0.1111111111111111,
              "#46039f"
             ],
             [
              0.2222222222222222,
              "#7201a8"
             ],
             [
              0.3333333333333333,
              "#9c179e"
             ],
             [
              0.4444444444444444,
              "#bd3786"
             ],
             [
              0.5555555555555556,
              "#d8576b"
             ],
             [
              0.6666666666666666,
              "#ed7953"
             ],
             [
              0.7777777777777778,
              "#fb9f3a"
             ],
             [
              0.8888888888888888,
              "#fdca26"
             ],
             [
              1,
              "#f0f921"
             ]
            ],
            "type": "histogram2dcontour"
           }
          ],
          "mesh3d": [
           {
            "colorbar": {
             "outlinewidth": 0,
             "ticks": ""
            },
            "type": "mesh3d"
           }
          ],
          "parcoords": [
           {
            "line": {
             "colorbar": {
              "outlinewidth": 0,
              "ticks": ""
             }
            },
            "type": "parcoords"
           }
          ],
          "pie": [
           {
            "automargin": true,
            "type": "pie"
           }
          ],
          "scatter": [
           {
            "marker": {
             "colorbar": {
              "outlinewidth": 0,
              "ticks": ""
             }
            },
            "type": "scatter"
           }
          ],
          "scatter3d": [
           {
            "line": {
             "colorbar": {
              "outlinewidth": 0,
              "ticks": ""
             }
            },
            "marker": {
             "colorbar": {
              "outlinewidth": 0,
              "ticks": ""
             }
            },
            "type": "scatter3d"
           }
          ],
          "scattercarpet": [
           {
            "marker": {
             "colorbar": {
              "outlinewidth": 0,
              "ticks": ""
             }
            },
            "type": "scattercarpet"
           }
          ],
          "scattergeo": [
           {
            "marker": {
             "colorbar": {
              "outlinewidth": 0,
              "ticks": ""
             }
            },
            "type": "scattergeo"
           }
          ],
          "scattergl": [
           {
            "marker": {
             "colorbar": {
              "outlinewidth": 0,
              "ticks": ""
             }
            },
            "type": "scattergl"
           }
          ],
          "scattermapbox": [
           {
            "marker": {
             "colorbar": {
              "outlinewidth": 0,
              "ticks": ""
             }
            },
            "type": "scattermapbox"
           }
          ],
          "scatterpolar": [
           {
            "marker": {
             "colorbar": {
              "outlinewidth": 0,
              "ticks": ""
             }
            },
            "type": "scatterpolar"
           }
          ],
          "scatterpolargl": [
           {
            "marker": {
             "colorbar": {
              "outlinewidth": 0,
              "ticks": ""
             }
            },
            "type": "scatterpolargl"
           }
          ],
          "scatterternary": [
           {
            "marker": {
             "colorbar": {
              "outlinewidth": 0,
              "ticks": ""
             }
            },
            "type": "scatterternary"
           }
          ],
          "surface": [
           {
            "colorbar": {
             "outlinewidth": 0,
             "ticks": ""
            },
            "colorscale": [
             [
              0,
              "#0d0887"
             ],
             [
              0.1111111111111111,
              "#46039f"
             ],
             [
              0.2222222222222222,
              "#7201a8"
             ],
             [
              0.3333333333333333,
              "#9c179e"
             ],
             [
              0.4444444444444444,
              "#bd3786"
             ],
             [
              0.5555555555555556,
              "#d8576b"
             ],
             [
              0.6666666666666666,
              "#ed7953"
             ],
             [
              0.7777777777777778,
              "#fb9f3a"
             ],
             [
              0.8888888888888888,
              "#fdca26"
             ],
             [
              1,
              "#f0f921"
             ]
            ],
            "type": "surface"
           }
          ],
          "table": [
           {
            "cells": {
             "fill": {
              "color": "#EBF0F8"
             },
             "line": {
              "color": "white"
             }
            },
            "header": {
             "fill": {
              "color": "#C8D4E3"
             },
             "line": {
              "color": "white"
             }
            },
            "type": "table"
           }
          ]
         },
         "layout": {
          "annotationdefaults": {
           "arrowcolor": "#2a3f5f",
           "arrowhead": 0,
           "arrowwidth": 1
          },
          "autotypenumbers": "strict",
          "coloraxis": {
           "colorbar": {
            "outlinewidth": 0,
            "ticks": ""
           }
          },
          "colorscale": {
           "diverging": [
            [
             0,
             "#8e0152"
            ],
            [
             0.1,
             "#c51b7d"
            ],
            [
             0.2,
             "#de77ae"
            ],
            [
             0.3,
             "#f1b6da"
            ],
            [
             0.4,
             "#fde0ef"
            ],
            [
             0.5,
             "#f7f7f7"
            ],
            [
             0.6,
             "#e6f5d0"
            ],
            [
             0.7,
             "#b8e186"
            ],
            [
             0.8,
             "#7fbc41"
            ],
            [
             0.9,
             "#4d9221"
            ],
            [
             1,
             "#276419"
            ]
           ],
           "sequential": [
            [
             0,
             "#0d0887"
            ],
            [
             0.1111111111111111,
             "#46039f"
            ],
            [
             0.2222222222222222,
             "#7201a8"
            ],
            [
             0.3333333333333333,
             "#9c179e"
            ],
            [
             0.4444444444444444,
             "#bd3786"
            ],
            [
             0.5555555555555556,
             "#d8576b"
            ],
            [
             0.6666666666666666,
             "#ed7953"
            ],
            [
             0.7777777777777778,
             "#fb9f3a"
            ],
            [
             0.8888888888888888,
             "#fdca26"
            ],
            [
             1,
             "#f0f921"
            ]
           ],
           "sequentialminus": [
            [
             0,
             "#0d0887"
            ],
            [
             0.1111111111111111,
             "#46039f"
            ],
            [
             0.2222222222222222,
             "#7201a8"
            ],
            [
             0.3333333333333333,
             "#9c179e"
            ],
            [
             0.4444444444444444,
             "#bd3786"
            ],
            [
             0.5555555555555556,
             "#d8576b"
            ],
            [
             0.6666666666666666,
             "#ed7953"
            ],
            [
             0.7777777777777778,
             "#fb9f3a"
            ],
            [
             0.8888888888888888,
             "#fdca26"
            ],
            [
             1,
             "#f0f921"
            ]
           ]
          },
          "colorway": [
           "#636efa",
           "#EF553B",
           "#00cc96",
           "#ab63fa",
           "#FFA15A",
           "#19d3f3",
           "#FF6692",
           "#B6E880",
           "#FF97FF",
           "#FECB52"
          ],
          "font": {
           "color": "#2a3f5f"
          },
          "geo": {
           "bgcolor": "white",
           "lakecolor": "white",
           "landcolor": "#E5ECF6",
           "showlakes": true,
           "showland": true,
           "subunitcolor": "white"
          },
          "hoverlabel": {
           "align": "left"
          },
          "hovermode": "closest",
          "mapbox": {
           "style": "light"
          },
          "paper_bgcolor": "white",
          "plot_bgcolor": "#E5ECF6",
          "polar": {
           "angularaxis": {
            "gridcolor": "white",
            "linecolor": "white",
            "ticks": ""
           },
           "bgcolor": "#E5ECF6",
           "radialaxis": {
            "gridcolor": "white",
            "linecolor": "white",
            "ticks": ""
           }
          },
          "scene": {
           "xaxis": {
            "backgroundcolor": "#E5ECF6",
            "gridcolor": "white",
            "gridwidth": 2,
            "linecolor": "white",
            "showbackground": true,
            "ticks": "",
            "zerolinecolor": "white"
           },
           "yaxis": {
            "backgroundcolor": "#E5ECF6",
            "gridcolor": "white",
            "gridwidth": 2,
            "linecolor": "white",
            "showbackground": true,
            "ticks": "",
            "zerolinecolor": "white"
           },
           "zaxis": {
            "backgroundcolor": "#E5ECF6",
            "gridcolor": "white",
            "gridwidth": 2,
            "linecolor": "white",
            "showbackground": true,
            "ticks": "",
            "zerolinecolor": "white"
           }
          },
          "shapedefaults": {
           "line": {
            "color": "#2a3f5f"
           }
          },
          "ternary": {
           "aaxis": {
            "gridcolor": "white",
            "linecolor": "white",
            "ticks": ""
           },
           "baxis": {
            "gridcolor": "white",
            "linecolor": "white",
            "ticks": ""
           },
           "bgcolor": "#E5ECF6",
           "caxis": {
            "gridcolor": "white",
            "linecolor": "white",
            "ticks": ""
           }
          },
          "title": {
           "x": 0.05
          },
          "xaxis": {
           "automargin": true,
           "gridcolor": "white",
           "linecolor": "white",
           "ticks": "",
           "title": {
            "standoff": 15
           },
           "zerolinecolor": "white",
           "zerolinewidth": 2
          },
          "yaxis": {
           "automargin": true,
           "gridcolor": "white",
           "linecolor": "white",
           "ticks": "",
           "title": {
            "standoff": 15
           },
           "zerolinecolor": "white",
           "zerolinewidth": 2
          }
         }
        },
        "title": {
         "text": "Stock Prices of Bitcoin"
        },
        "xaxis": {
         "title": {
          "font": {
           "color": "#7f7f7f",
           "size": 18
          },
          "text": "Date"
         }
        },
        "yaxis": {
         "title": {
          "font": {
           "color": "#7f7f7f",
           "size": 18
          },
          "text": "Price"
         }
        }
       }
      },
      "text/html": [
       "<div>                            <div id=\"295c1a39-435e-47f6-ae02-0163bcf4ee13\" class=\"plotly-graph-div\" style=\"height:525px; width:100%;\"></div>            <script type=\"text/javascript\">                require([\"plotly\"], function(Plotly) {                    window.PLOTLYENV=window.PLOTLYENV || {};                                    if (document.getElementById(\"295c1a39-435e-47f6-ae02-0163bcf4ee13\")) {                    Plotly.newPlot(                        \"295c1a39-435e-47f6-ae02-0163bcf4ee13\",                        [{\"type\": \"scatter\", \"x\": [\"2020-05-05T00:00:00\", \"2020-05-06T00:00:00\", \"2020-05-07T00:00:00\", \"2020-05-08T00:00:00\", \"2020-05-09T00:00:00\", \"2020-05-10T00:00:00\", \"2020-05-11T00:00:00\", \"2020-05-12T00:00:00\", \"2020-05-13T00:00:00\", \"2020-05-14T00:00:00\", \"2020-05-15T00:00:00\", \"2020-05-16T00:00:00\", \"2020-05-17T00:00:00\", \"2020-05-18T00:00:00\", \"2020-05-19T00:00:00\", \"2020-05-20T00:00:00\", \"2020-05-21T00:00:00\", \"2020-05-22T00:00:00\", \"2020-05-23T00:00:00\", \"2020-05-24T00:00:00\", \"2020-05-25T00:00:00\", \"2020-05-26T00:00:00\", \"2020-05-27T00:00:00\", \"2020-05-28T00:00:00\", \"2020-05-29T00:00:00\", \"2020-05-30T00:00:00\", \"2020-05-31T00:00:00\", \"2020-06-01T00:00:00\", \"2020-06-02T00:00:00\", \"2020-06-03T00:00:00\", \"2020-06-04T00:00:00\", \"2020-06-05T00:00:00\", \"2020-06-06T00:00:00\", \"2020-06-07T00:00:00\", \"2020-06-08T00:00:00\", \"2020-06-09T00:00:00\", \"2020-06-10T00:00:00\", \"2020-06-11T00:00:00\", \"2020-06-12T00:00:00\", \"2020-06-13T00:00:00\", \"2020-06-14T00:00:00\", \"2020-06-15T00:00:00\", \"2020-06-16T00:00:00\", \"2020-06-17T00:00:00\", \"2020-06-18T00:00:00\", \"2020-06-19T00:00:00\", \"2020-06-20T00:00:00\", \"2020-06-21T00:00:00\", \"2020-06-22T00:00:00\", \"2020-06-23T00:00:00\", \"2020-06-24T00:00:00\", \"2020-06-25T00:00:00\", \"2020-06-26T00:00:00\", \"2020-06-27T00:00:00\", \"2020-06-28T00:00:00\", \"2020-06-29T00:00:00\", \"2020-06-30T00:00:00\", \"2020-07-01T00:00:00\", \"2020-07-02T00:00:00\", \"2020-07-03T00:00:00\", \"2020-07-04T00:00:00\", \"2020-07-05T00:00:00\", \"2020-07-06T00:00:00\", \"2020-07-07T00:00:00\", \"2020-07-08T00:00:00\", \"2020-07-09T00:00:00\", \"2020-07-10T00:00:00\", \"2020-07-11T00:00:00\", \"2020-07-12T00:00:00\", \"2020-07-13T00:00:00\", \"2020-07-14T00:00:00\", \"2020-07-15T00:00:00\", \"2020-07-16T00:00:00\", \"2020-07-17T00:00:00\", \"2020-07-18T00:00:00\", \"2020-07-19T00:00:00\", \"2020-07-20T00:00:00\", \"2020-07-21T00:00:00\", \"2020-07-22T00:00:00\", \"2020-07-23T00:00:00\", \"2020-07-24T00:00:00\", \"2020-07-25T00:00:00\", \"2020-07-26T00:00:00\", \"2020-07-27T00:00:00\", \"2020-07-28T00:00:00\", \"2020-07-29T00:00:00\", \"2020-07-30T00:00:00\", \"2020-07-31T00:00:00\", \"2020-08-01T00:00:00\", \"2020-08-02T00:00:00\", \"2020-08-03T00:00:00\", \"2020-08-04T00:00:00\", \"2020-08-05T00:00:00\", \"2020-08-06T00:00:00\", \"2020-08-07T00:00:00\", \"2020-08-08T00:00:00\", \"2020-08-09T00:00:00\", \"2020-08-10T00:00:00\", \"2020-08-11T00:00:00\", \"2020-08-12T00:00:00\", \"2020-08-13T00:00:00\", \"2020-08-14T00:00:00\", \"2020-08-15T00:00:00\", \"2020-08-16T00:00:00\", \"2020-08-17T00:00:00\", \"2020-08-18T00:00:00\", \"2020-08-19T00:00:00\", \"2020-08-20T00:00:00\", \"2020-08-21T00:00:00\", \"2020-08-22T00:00:00\", \"2020-08-23T00:00:00\", \"2020-08-24T00:00:00\", \"2020-08-25T00:00:00\", \"2020-08-26T00:00:00\", \"2020-08-27T00:00:00\", \"2020-08-28T00:00:00\", \"2020-08-29T00:00:00\", \"2020-08-30T00:00:00\", \"2020-08-31T00:00:00\", \"2020-09-01T00:00:00\", \"2020-09-02T00:00:00\", \"2020-09-03T00:00:00\", \"2020-09-04T00:00:00\", \"2020-09-05T00:00:00\", \"2020-09-06T00:00:00\", \"2020-09-07T00:00:00\", \"2020-09-08T00:00:00\", \"2020-09-09T00:00:00\", \"2020-09-10T00:00:00\", \"2020-09-11T00:00:00\", \"2020-09-12T00:00:00\", \"2020-09-13T00:00:00\", \"2020-09-14T00:00:00\", \"2020-09-15T00:00:00\", \"2020-09-16T00:00:00\", \"2020-09-17T00:00:00\", \"2020-09-18T00:00:00\", \"2020-09-19T00:00:00\", \"2020-09-20T00:00:00\", \"2020-09-21T00:00:00\", \"2020-09-22T00:00:00\", \"2020-09-23T00:00:00\", \"2020-09-24T00:00:00\", \"2020-09-25T00:00:00\", \"2020-09-26T00:00:00\", \"2020-09-27T00:00:00\", \"2020-09-28T00:00:00\", \"2020-09-29T00:00:00\", \"2020-09-30T00:00:00\", \"2020-10-01T00:00:00\", \"2020-10-02T00:00:00\", \"2020-10-03T00:00:00\", \"2020-10-04T00:00:00\", \"2020-10-05T00:00:00\", \"2020-10-06T00:00:00\", \"2020-10-07T00:00:00\", \"2020-10-08T00:00:00\", \"2020-10-10T00:00:00\", \"2020-10-11T00:00:00\", \"2020-10-14T00:00:00\", \"2020-10-15T00:00:00\", \"2020-10-16T00:00:00\", \"2020-10-17T00:00:00\", \"2020-10-18T00:00:00\", \"2020-10-19T00:00:00\", \"2020-10-20T00:00:00\", \"2020-10-21T00:00:00\", \"2020-10-22T00:00:00\", \"2020-10-23T00:00:00\", \"2020-10-24T00:00:00\", \"2020-10-25T00:00:00\", \"2020-10-26T00:00:00\", \"2020-10-27T00:00:00\", \"2020-10-28T00:00:00\", \"2020-10-29T00:00:00\", \"2020-10-30T00:00:00\", \"2020-10-31T00:00:00\", \"2020-11-01T00:00:00\", \"2020-11-02T00:00:00\", \"2020-11-03T00:00:00\", \"2020-11-04T00:00:00\", \"2020-11-05T00:00:00\", \"2020-11-06T00:00:00\", \"2020-11-07T00:00:00\", \"2020-11-08T00:00:00\", \"2020-11-09T00:00:00\", \"2020-11-10T00:00:00\", \"2020-11-11T00:00:00\", \"2020-11-12T00:00:00\", \"2020-11-13T00:00:00\", \"2020-11-14T00:00:00\", \"2020-11-15T00:00:00\", \"2020-11-16T00:00:00\", \"2020-11-17T00:00:00\", \"2020-11-18T00:00:00\", \"2020-11-19T00:00:00\", \"2020-11-20T00:00:00\", \"2020-11-21T00:00:00\", \"2020-11-22T00:00:00\", \"2020-11-23T00:00:00\", \"2020-11-24T00:00:00\", \"2020-11-25T00:00:00\", \"2020-11-26T00:00:00\", \"2020-11-27T00:00:00\", \"2020-11-28T00:00:00\", \"2020-11-29T00:00:00\", \"2020-11-30T00:00:00\", \"2020-12-01T00:00:00\", \"2020-12-02T00:00:00\", \"2020-12-03T00:00:00\", \"2020-12-04T00:00:00\", \"2020-12-05T00:00:00\", \"2020-12-06T00:00:00\", \"2020-12-07T00:00:00\", \"2020-12-08T00:00:00\", \"2020-12-09T00:00:00\", \"2020-12-10T00:00:00\", \"2020-12-11T00:00:00\", \"2020-12-12T00:00:00\", \"2020-12-13T00:00:00\", \"2020-12-14T00:00:00\", \"2020-12-15T00:00:00\", \"2020-12-16T00:00:00\", \"2020-12-17T00:00:00\", \"2020-12-18T00:00:00\", \"2020-12-19T00:00:00\", \"2020-12-20T00:00:00\", \"2020-12-21T00:00:00\", \"2020-12-22T00:00:00\", \"2020-12-23T00:00:00\", \"2020-12-24T00:00:00\", \"2020-12-25T00:00:00\", \"2020-12-26T00:00:00\", \"2020-12-27T00:00:00\", \"2020-12-28T00:00:00\", \"2020-12-29T00:00:00\", \"2020-12-30T00:00:00\", \"2020-12-31T00:00:00\", \"2021-01-01T00:00:00\", \"2021-01-02T00:00:00\", \"2021-01-03T00:00:00\", \"2021-01-04T00:00:00\", \"2021-01-05T00:00:00\", \"2021-01-06T00:00:00\", \"2021-01-07T00:00:00\", \"2021-01-08T00:00:00\", \"2021-01-09T00:00:00\", \"2021-01-10T00:00:00\", \"2021-01-11T00:00:00\", \"2021-01-12T00:00:00\", \"2021-01-13T00:00:00\", \"2021-01-14T00:00:00\", \"2021-01-15T00:00:00\", \"2021-01-16T00:00:00\", \"2021-01-17T00:00:00\", \"2021-01-18T00:00:00\", \"2021-01-19T00:00:00\", \"2021-01-20T00:00:00\", \"2021-01-21T00:00:00\", \"2021-01-22T00:00:00\", \"2021-01-23T00:00:00\", \"2021-01-24T00:00:00\", \"2021-01-25T00:00:00\", \"2021-01-26T00:00:00\", \"2021-01-27T00:00:00\", \"2021-01-28T00:00:00\", \"2021-01-29T00:00:00\", \"2021-01-30T00:00:00\", \"2021-01-31T00:00:00\", \"2021-02-01T00:00:00\", \"2021-02-02T00:00:00\", \"2021-02-03T00:00:00\", \"2021-02-04T00:00:00\", \"2021-02-05T00:00:00\", \"2021-02-06T00:00:00\", \"2021-02-07T00:00:00\", \"2021-02-08T00:00:00\", \"2021-02-09T00:00:00\", \"2021-02-10T00:00:00\", \"2021-02-11T00:00:00\", \"2021-02-12T00:00:00\", \"2021-02-13T00:00:00\", \"2021-02-14T00:00:00\", \"2021-02-15T00:00:00\", \"2021-02-16T00:00:00\", \"2021-02-17T00:00:00\", \"2021-02-18T00:00:00\", \"2021-02-19T00:00:00\", \"2021-02-20T00:00:00\", \"2021-02-21T00:00:00\", \"2021-02-22T00:00:00\", \"2021-02-23T00:00:00\", \"2021-02-24T00:00:00\", \"2021-02-25T00:00:00\", \"2021-02-26T00:00:00\", \"2021-02-27T00:00:00\", \"2021-02-28T00:00:00\", \"2021-03-01T00:00:00\", \"2021-03-02T00:00:00\", \"2021-03-03T00:00:00\", \"2021-03-04T00:00:00\", \"2021-03-05T00:00:00\", \"2021-03-06T00:00:00\", \"2021-03-07T00:00:00\", \"2021-03-08T00:00:00\", \"2021-03-09T00:00:00\", \"2021-03-10T00:00:00\", \"2021-03-11T00:00:00\", \"2021-03-12T00:00:00\", \"2021-03-13T00:00:00\", \"2021-03-14T00:00:00\", \"2021-03-15T00:00:00\", \"2021-03-16T00:00:00\", \"2021-03-17T00:00:00\", \"2021-03-18T00:00:00\", \"2021-03-19T00:00:00\", \"2021-03-20T00:00:00\", \"2021-03-21T00:00:00\", \"2021-03-22T00:00:00\", \"2021-03-23T00:00:00\", \"2021-03-24T00:00:00\", \"2021-03-25T00:00:00\", \"2021-03-26T00:00:00\", \"2021-03-27T00:00:00\", \"2021-03-28T00:00:00\", \"2021-03-29T00:00:00\", \"2021-03-30T00:00:00\", \"2021-03-31T00:00:00\", \"2021-04-01T00:00:00\", \"2021-04-02T00:00:00\", \"2021-04-03T00:00:00\", \"2021-04-04T00:00:00\", \"2021-04-05T00:00:00\", \"2021-04-06T00:00:00\", \"2021-04-07T00:00:00\", \"2021-04-08T00:00:00\", \"2021-04-09T00:00:00\", \"2021-04-10T00:00:00\", \"2021-04-11T00:00:00\", \"2021-04-12T00:00:00\", \"2021-04-13T00:00:00\", \"2021-04-14T00:00:00\", \"2021-04-15T00:00:00\", \"2021-04-16T00:00:00\", \"2021-04-17T00:00:00\", \"2021-04-18T00:00:00\", \"2021-04-19T00:00:00\", \"2021-04-20T00:00:00\", \"2021-04-21T00:00:00\", \"2021-04-22T00:00:00\", \"2021-04-23T00:00:00\", \"2021-04-24T00:00:00\", \"2021-04-25T00:00:00\", \"2021-04-26T00:00:00\", \"2021-04-27T00:00:00\", \"2021-04-28T00:00:00\", \"2021-04-29T00:00:00\", \"2021-04-30T00:00:00\", \"2021-05-01T00:00:00\", \"2021-05-02T00:00:00\", \"2021-05-03T00:00:00\", \"2021-05-04T00:00:00\", \"2021-05-05T00:00:00\"], \"y\": [9003.070313, 9268.761719, 9951.518555, 9842.666016, 9593.896484, 8756.430664, 8601.795898, 8804.477539, 9269.987305, 9733.72168, 9328.197266, 9377.013672, 9670.739258, 9726.575195, 9729.038086, 9522.981445, 9081.761719, 9182.577148, 9209.287109, 8790.368164, 8906.93457, 8835.052734, 9181.017578, 9525.750977, 9439.124023, 9700.414063, 9461.058594, 10167.268555, 9529.803711, 9656.717773, 9800.636719, 9665.533203, 9653.679688, 9758.852539, 9771.489258, 9795.700195, 9870.094727, 9321.78125, 9480.84375, 9475.277344, 9386.788086, 9450.702148, 9538.024414, 9480.254883, 9411.84082, 9288.018555, 9332.34082, 9303.629883, 9648.717773, 9629.658203, 9313.610352, 9264.813477, 9162.917969, 9045.390625, 9143.582031, 9190.854492, 9137.993164, 9228.325195, 9123.410156, 9087.303711, 9132.488281, 9073.942383, 9375.474609, 9252.277344, 9428.333008, 9277.967773, 9278.807617, 9240.34668, 9276.5, 9243.614258, 9243.213867, 9192.836914, 9132.227539, 9151.392578, 9159.040039, 9185.817383, 9164.231445, 9374.887695, 9525.363281, 9581.072266, 9536.892578, 9677.113281, 9905.166992, 10990.873047, 10912.823242, 11100.467773, 11111.213867, 11323.466797, 11759.592773, 11053.614258, 11246.348633, 11205.892578, 11747.022461, 11779.773438, 11601.472656, 11754.045898, 11675.739258, 11878.111328, 11410.525391, 11584.93457, 11784.137695, 11768.871094, 11865.698242, 11892.803711, 12254.402344, 11991.233398, 11758.283203, 11878.37207, 11592.489258, 11681.825195, 11664.847656, 11774.595703, 11366.134766, 11488.363281, 11323.397461, 11542.5, 11506.865234, 11711.505859, 11680.820313, 11970.478516, 11414.03418, 10245.296875, 10511.813477, 10169.567383, 10280.351563, 10369.563477, 10131.516602, 10242.347656, 10363.138672, 10400.915039, 10442.170898, 10323.755859, 10680.837891, 10796.951172, 10974.905273, 10948.990234, 10944.585938, 11094.34668, 10938.271484, 10462.259766, 10538.459961, 10225.864258, 10745.548828, 10702.290039, 10754.4375, 10774.426758, 10721.327148, 10848.830078, 10787.618164, 10623.330078, 10585.164063, 10565.493164, 10684.428711, 10804.000977, 10621.664063, 10679.136719, 10923.62793, 11296.361328, 11384.181641, 11429.506836, 11495.349609, 11322.123047, 11358.101563, 11483.359375, 11742.037109, 11916.334961, 12823.689453, 12965.891602, 12931.539063, 13108.0625, 13031.173828, 13075.248047, 13654.21875, 13271.285156, 13437.882813, 13546.522461000002, 13780.995116999999, 13737.109375, 13550.489258000001, 13950.300781, 14133.707031, 15579.848633000001, 15565.880859, 14833.753906, 15479.567383000001, 15332.31543, 15290.902344, 15701.339844, 16276.34375, 16317.808594, 16068.138672, 15955.587891, 16716.111328, 17645.40625, 17804.005859, 17817.089844, 18621.314453, 18642.232422, 18370.001953, 18364.121094, 19107.464844, 18732.121094, 17150.623047, 17108.402344, 17717.414063, 18177.484375, 19625.835938, 18802.998047, 19201.091797, 19445.398438, 18699.765625, 19154.230469, 19345.121094, 19191.630859, 18321.144531, 18553.916016, 18264.992188, 18058.904297, 18803.65625, 19142.382813, 19246.644531, 19417.076172, 21310.597656, 22805.162109, 23137.960938, 23869.832031, 23477.294922, 22803.082031, 23783.029297, 23241.345703, 23735.949219, 24664.791016, 26437.037109, 26272.294922, 27084.808594, 27362.4375, 28840.953125, 29001.720702999995, 29374.152344, 32127.267577999995, 32782.023438, 31971.914063, 33992.429688, 36824.363281, 39371.042969, 40797.609375, 40254.546875, 38356.441406, 35566.65625, 33922.960938, 37316.359375, 39187.328125, 36825.367188, 36178.140625, 35791.277344, 36630.074219, 36069.804688, 35547.75, 30825.699219, 33005.761719, 32067.642577999995, 32289.378906, 32366.392577999995, 32569.849608999997, 30432.546875, 31649.605469, 34316.386719, 34269.523438, 33114.359375, 33537.175781, 35510.289063, 37472.089844, 36926.066406, 38144.308594, 39266.011719, 38903.441406, 46196.464844, 46481.105469, 44918.183594, 47909.332031, 47504.851563, 47105.515625, 48717.289063, 47945.058594, 49199.871094, 52149.007813, 51679.796875, 55888.132813, 56099.51953099999, 57539.945313, 54207.320313, 48824.425781, 49705.332031, 47093.851563, 46339.761719, 46188.453125, 45137.769531, 49631.242188, 48378.988281, 50538.242188, 48561.167969, 48927.304688, 48912.382813, 51206.691406, 52246.523438, 54824.117188, 56008.55078099999, 57805.12109400001, 57332.08984400001, 61243.085938, 59302.31640599999, 55907.19921900001, 56804.90234400001, 58870.89453099999, 57858.921875, 58346.65234400001, 58313.64453099999, 57523.421875, 54529.14453099999, 54738.945313, 52774.265625, 51704.160156, 55137.3125, 55973.51171900001, 55950.74609400001, 57750.19921900001, 58917.69140599999, 58918.83203099999, 59095.80859400001, 59384.3125, 57603.890625, 58758.554688, 59057.87890599999, 58192.359375, 56048.9375, 58323.953125, 58245.00390599999, 59793.234375, 60204.96484400001, 59893.453125, 63503.45703099999, 63109.695313, 63314.01171900001, 61572.789063, 60683.820313, 56216.18359400001, 55724.265625, 56473.03125, 53906.08984400001, 51762.273438, 51093.652344, 50050.867188, 49004.253906, 54021.75390599999, 55033.117188, 54824.703125, 53555.109375, 57750.17578099999, 57828.05078099999, 56631.078125, 57200.29296900001, 53333.539063, 55446.179688]}],                        {\"template\": {\"data\": {\"bar\": [{\"error_x\": {\"color\": \"#2a3f5f\"}, \"error_y\": {\"color\": \"#2a3f5f\"}, \"marker\": {\"line\": {\"color\": \"#E5ECF6\", \"width\": 0.5}}, \"type\": \"bar\"}], \"barpolar\": [{\"marker\": {\"line\": {\"color\": \"#E5ECF6\", \"width\": 0.5}}, \"type\": \"barpolar\"}], \"carpet\": [{\"aaxis\": {\"endlinecolor\": \"#2a3f5f\", \"gridcolor\": \"white\", \"linecolor\": \"white\", \"minorgridcolor\": \"white\", \"startlinecolor\": \"#2a3f5f\"}, \"baxis\": {\"endlinecolor\": \"#2a3f5f\", \"gridcolor\": \"white\", \"linecolor\": \"white\", \"minorgridcolor\": \"white\", \"startlinecolor\": \"#2a3f5f\"}, \"type\": \"carpet\"}], \"choropleth\": [{\"colorbar\": {\"outlinewidth\": 0, \"ticks\": \"\"}, \"type\": \"choropleth\"}], \"contour\": [{\"colorbar\": {\"outlinewidth\": 0, \"ticks\": \"\"}, \"colorscale\": [[0.0, \"#0d0887\"], [0.1111111111111111, \"#46039f\"], [0.2222222222222222, \"#7201a8\"], [0.3333333333333333, \"#9c179e\"], [0.4444444444444444, \"#bd3786\"], [0.5555555555555556, \"#d8576b\"], [0.6666666666666666, \"#ed7953\"], [0.7777777777777778, \"#fb9f3a\"], [0.8888888888888888, \"#fdca26\"], [1.0, \"#f0f921\"]], \"type\": \"contour\"}], \"contourcarpet\": [{\"colorbar\": {\"outlinewidth\": 0, \"ticks\": \"\"}, \"type\": \"contourcarpet\"}], \"heatmap\": [{\"colorbar\": {\"outlinewidth\": 0, \"ticks\": \"\"}, \"colorscale\": [[0.0, \"#0d0887\"], [0.1111111111111111, \"#46039f\"], [0.2222222222222222, \"#7201a8\"], [0.3333333333333333, \"#9c179e\"], [0.4444444444444444, \"#bd3786\"], [0.5555555555555556, \"#d8576b\"], [0.6666666666666666, \"#ed7953\"], [0.7777777777777778, \"#fb9f3a\"], [0.8888888888888888, \"#fdca26\"], [1.0, \"#f0f921\"]], \"type\": \"heatmap\"}], \"heatmapgl\": [{\"colorbar\": {\"outlinewidth\": 0, \"ticks\": \"\"}, \"colorscale\": [[0.0, \"#0d0887\"], [0.1111111111111111, \"#46039f\"], [0.2222222222222222, \"#7201a8\"], [0.3333333333333333, \"#9c179e\"], [0.4444444444444444, \"#bd3786\"], [0.5555555555555556, \"#d8576b\"], [0.6666666666666666, \"#ed7953\"], [0.7777777777777778, \"#fb9f3a\"], [0.8888888888888888, \"#fdca26\"], [1.0, \"#f0f921\"]], \"type\": \"heatmapgl\"}], \"histogram\": [{\"marker\": {\"colorbar\": {\"outlinewidth\": 0, \"ticks\": \"\"}}, \"type\": \"histogram\"}], \"histogram2d\": [{\"colorbar\": {\"outlinewidth\": 0, \"ticks\": \"\"}, \"colorscale\": [[0.0, \"#0d0887\"], [0.1111111111111111, \"#46039f\"], [0.2222222222222222, \"#7201a8\"], [0.3333333333333333, \"#9c179e\"], [0.4444444444444444, \"#bd3786\"], [0.5555555555555556, \"#d8576b\"], [0.6666666666666666, \"#ed7953\"], [0.7777777777777778, \"#fb9f3a\"], [0.8888888888888888, \"#fdca26\"], [1.0, \"#f0f921\"]], \"type\": \"histogram2d\"}], \"histogram2dcontour\": [{\"colorbar\": {\"outlinewidth\": 0, \"ticks\": \"\"}, \"colorscale\": [[0.0, \"#0d0887\"], [0.1111111111111111, \"#46039f\"], [0.2222222222222222, \"#7201a8\"], [0.3333333333333333, \"#9c179e\"], [0.4444444444444444, \"#bd3786\"], [0.5555555555555556, \"#d8576b\"], [0.6666666666666666, \"#ed7953\"], [0.7777777777777778, \"#fb9f3a\"], [0.8888888888888888, \"#fdca26\"], [1.0, \"#f0f921\"]], \"type\": \"histogram2dcontour\"}], \"mesh3d\": [{\"colorbar\": {\"outlinewidth\": 0, \"ticks\": \"\"}, \"type\": \"mesh3d\"}], \"parcoords\": [{\"line\": {\"colorbar\": {\"outlinewidth\": 0, \"ticks\": \"\"}}, \"type\": \"parcoords\"}], \"pie\": [{\"automargin\": true, \"type\": \"pie\"}], \"scatter\": [{\"marker\": {\"colorbar\": {\"outlinewidth\": 0, \"ticks\": \"\"}}, \"type\": \"scatter\"}], \"scatter3d\": [{\"line\": {\"colorbar\": {\"outlinewidth\": 0, \"ticks\": \"\"}}, \"marker\": {\"colorbar\": {\"outlinewidth\": 0, \"ticks\": \"\"}}, \"type\": \"scatter3d\"}], \"scattercarpet\": [{\"marker\": {\"colorbar\": {\"outlinewidth\": 0, \"ticks\": \"\"}}, \"type\": \"scattercarpet\"}], \"scattergeo\": [{\"marker\": {\"colorbar\": {\"outlinewidth\": 0, \"ticks\": \"\"}}, \"type\": \"scattergeo\"}], \"scattergl\": [{\"marker\": {\"colorbar\": {\"outlinewidth\": 0, \"ticks\": \"\"}}, \"type\": \"scattergl\"}], \"scattermapbox\": [{\"marker\": {\"colorbar\": {\"outlinewidth\": 0, \"ticks\": \"\"}}, \"type\": \"scattermapbox\"}], \"scatterpolar\": [{\"marker\": {\"colorbar\": {\"outlinewidth\": 0, \"ticks\": \"\"}}, \"type\": \"scatterpolar\"}], \"scatterpolargl\": [{\"marker\": {\"colorbar\": {\"outlinewidth\": 0, \"ticks\": \"\"}}, \"type\": \"scatterpolargl\"}], \"scatterternary\": [{\"marker\": {\"colorbar\": {\"outlinewidth\": 0, \"ticks\": \"\"}}, \"type\": \"scatterternary\"}], \"surface\": [{\"colorbar\": {\"outlinewidth\": 0, \"ticks\": \"\"}, \"colorscale\": [[0.0, \"#0d0887\"], [0.1111111111111111, \"#46039f\"], [0.2222222222222222, \"#7201a8\"], [0.3333333333333333, \"#9c179e\"], [0.4444444444444444, \"#bd3786\"], [0.5555555555555556, \"#d8576b\"], [0.6666666666666666, \"#ed7953\"], [0.7777777777777778, \"#fb9f3a\"], [0.8888888888888888, \"#fdca26\"], [1.0, \"#f0f921\"]], \"type\": \"surface\"}], \"table\": [{\"cells\": {\"fill\": {\"color\": \"#EBF0F8\"}, \"line\": {\"color\": \"white\"}}, \"header\": {\"fill\": {\"color\": \"#C8D4E3\"}, \"line\": {\"color\": \"white\"}}, \"type\": \"table\"}]}, \"layout\": {\"annotationdefaults\": {\"arrowcolor\": \"#2a3f5f\", \"arrowhead\": 0, \"arrowwidth\": 1}, \"autotypenumbers\": \"strict\", \"coloraxis\": {\"colorbar\": {\"outlinewidth\": 0, \"ticks\": \"\"}}, \"colorscale\": {\"diverging\": [[0, \"#8e0152\"], [0.1, \"#c51b7d\"], [0.2, \"#de77ae\"], [0.3, \"#f1b6da\"], [0.4, \"#fde0ef\"], [0.5, \"#f7f7f7\"], [0.6, \"#e6f5d0\"], [0.7, \"#b8e186\"], [0.8, \"#7fbc41\"], [0.9, \"#4d9221\"], [1, \"#276419\"]], \"sequential\": [[0.0, \"#0d0887\"], [0.1111111111111111, \"#46039f\"], [0.2222222222222222, \"#7201a8\"], [0.3333333333333333, \"#9c179e\"], [0.4444444444444444, \"#bd3786\"], [0.5555555555555556, \"#d8576b\"], [0.6666666666666666, \"#ed7953\"], [0.7777777777777778, \"#fb9f3a\"], [0.8888888888888888, \"#fdca26\"], [1.0, \"#f0f921\"]], \"sequentialminus\": [[0.0, \"#0d0887\"], [0.1111111111111111, \"#46039f\"], [0.2222222222222222, \"#7201a8\"], [0.3333333333333333, \"#9c179e\"], [0.4444444444444444, \"#bd3786\"], [0.5555555555555556, \"#d8576b\"], [0.6666666666666666, \"#ed7953\"], [0.7777777777777778, \"#fb9f3a\"], [0.8888888888888888, \"#fdca26\"], [1.0, \"#f0f921\"]]}, \"colorway\": [\"#636efa\", \"#EF553B\", \"#00cc96\", \"#ab63fa\", \"#FFA15A\", \"#19d3f3\", \"#FF6692\", \"#B6E880\", \"#FF97FF\", \"#FECB52\"], \"font\": {\"color\": \"#2a3f5f\"}, \"geo\": {\"bgcolor\": \"white\", \"lakecolor\": \"white\", \"landcolor\": \"#E5ECF6\", \"showlakes\": true, \"showland\": true, \"subunitcolor\": \"white\"}, \"hoverlabel\": {\"align\": \"left\"}, \"hovermode\": \"closest\", \"mapbox\": {\"style\": \"light\"}, \"paper_bgcolor\": \"white\", \"plot_bgcolor\": \"#E5ECF6\", \"polar\": {\"angularaxis\": {\"gridcolor\": \"white\", \"linecolor\": \"white\", \"ticks\": \"\"}, \"bgcolor\": \"#E5ECF6\", \"radialaxis\": {\"gridcolor\": \"white\", \"linecolor\": \"white\", \"ticks\": \"\"}}, \"scene\": {\"xaxis\": {\"backgroundcolor\": \"#E5ECF6\", \"gridcolor\": \"white\", \"gridwidth\": 2, \"linecolor\": \"white\", \"showbackground\": true, \"ticks\": \"\", \"zerolinecolor\": \"white\"}, \"yaxis\": {\"backgroundcolor\": \"#E5ECF6\", \"gridcolor\": \"white\", \"gridwidth\": 2, \"linecolor\": \"white\", \"showbackground\": true, \"ticks\": \"\", \"zerolinecolor\": \"white\"}, \"zaxis\": {\"backgroundcolor\": \"#E5ECF6\", \"gridcolor\": \"white\", \"gridwidth\": 2, \"linecolor\": \"white\", \"showbackground\": true, \"ticks\": \"\", \"zerolinecolor\": \"white\"}}, \"shapedefaults\": {\"line\": {\"color\": \"#2a3f5f\"}}, \"ternary\": {\"aaxis\": {\"gridcolor\": \"white\", \"linecolor\": \"white\", \"ticks\": \"\"}, \"baxis\": {\"gridcolor\": \"white\", \"linecolor\": \"white\", \"ticks\": \"\"}, \"bgcolor\": \"#E5ECF6\", \"caxis\": {\"gridcolor\": \"white\", \"linecolor\": \"white\", \"ticks\": \"\"}}, \"title\": {\"x\": 0.05}, \"xaxis\": {\"automargin\": true, \"gridcolor\": \"white\", \"linecolor\": \"white\", \"ticks\": \"\", \"title\": {\"standoff\": 15}, \"zerolinecolor\": \"white\", \"zerolinewidth\": 2}, \"yaxis\": {\"automargin\": true, \"gridcolor\": \"white\", \"linecolor\": \"white\", \"ticks\": \"\", \"title\": {\"standoff\": 15}, \"zerolinecolor\": \"white\", \"zerolinewidth\": 2}}}, \"title\": {\"text\": \"Stock Prices of Bitcoin\"}, \"xaxis\": {\"title\": {\"font\": {\"color\": \"#7f7f7f\", \"size\": 18}, \"text\": \"Date\"}}, \"yaxis\": {\"title\": {\"font\": {\"color\": \"#7f7f7f\", \"size\": 18}, \"text\": \"Price\"}}},                        {\"responsive\": true}                    ).then(function(){\n",
       "                            \n",
       "var gd = document.getElementById('295c1a39-435e-47f6-ae02-0163bcf4ee13');\n",
       "var x = new MutationObserver(function (mutations, observer) {{\n",
       "        var display = window.getComputedStyle(gd).display;\n",
       "        if (!display || display === 'none') {{\n",
       "            console.log([gd, 'removed!']);\n",
       "            Plotly.purge(gd);\n",
       "            observer.disconnect();\n",
       "        }}\n",
       "}});\n",
       "\n",
       "// Listen for the removal of the full notebook cells\n",
       "var notebookContainer = gd.closest('#notebook-container');\n",
       "if (notebookContainer) {{\n",
       "    x.observe(notebookContainer, {childList: true});\n",
       "}}\n",
       "\n",
       "// Listen for the clearing of the current output cell\n",
       "var outputEl = gd.closest('.output');\n",
       "if (outputEl) {{\n",
       "    x.observe(outputEl, {childList: true});\n",
       "}}\n",
       "\n",
       "                        })                };                });            </script>        </div>"
      ]
     },
     "metadata": {},
     "output_type": "display_data"
    }
   ],
   "source": [
    "iplot(plot)"
   ]
  },
  {
   "cell_type": "code",
   "execution_count": 15,
   "metadata": {},
   "outputs": [],
   "source": [
    "from sklearn.model_selection import train_test_split\n",
    "\n",
    "from sklearn.preprocessing import MinMaxScaler\n",
    "from sklearn.preprocessing import StandardScaler\n",
    "\n",
    "from sklearn.metrics import mean_squared_error as mse\n",
    "from sklearn.metrics import r2_score"
   ]
  },
  {
   "cell_type": "code",
   "execution_count": 16,
   "metadata": {},
   "outputs": [],
   "source": [
    "x=np.array(df.index).reshape(-1,1)\n",
    "y=df[\"Close\"]\n",
    "x_train, x_test, y_train, y_test = train_test_split(x, y, test_size=0.3, random_state=104)"
   ]
  },
  {
   "cell_type": "code",
   "execution_count": 17,
   "metadata": {},
   "outputs": [],
   "source": [
    "#feature scaling is impt step for training\n",
    "scalar=StandardScaler().fit(x_train)"
   ]
  },
  {
   "cell_type": "code",
   "execution_count": 18,
   "metadata": {},
   "outputs": [],
   "source": [
    "from sklearn.linear_model import LinearRegression\n",
    "lr=LinearRegression()"
   ]
  },
  {
   "cell_type": "code",
   "execution_count": 19,
   "metadata": {},
   "outputs": [
    {
     "data": {
      "text/plain": [
       "LinearRegression()"
      ]
     },
     "execution_count": 19,
     "metadata": {},
     "output_type": "execute_result"
    }
   ],
   "source": [
    "lr.fit(x_train,y_train)"
   ]
  },
  {
   "cell_type": "code",
   "execution_count": 20,
   "metadata": {},
   "outputs": [],
   "source": [
    "actual= go.Scatter(\n",
    "                    x=x_train.T[0],\n",
    "                    y=y_train,\n",
    "                    mode='markers',\n",
    "                    name='Actual')\n",
    "\n",
    "pred= go.Scatter(\n",
    "                x=x_train.T[0],\n",
    "                 y=lr.predict(x_train).T,\n",
    "                 mode='lines',\n",
    "                 name='Predicted')\n",
    "\n",
    "bit_data=[actual,pred]\n",
    "go.layout.xaxis.title.text= 'Day'\n",
    "plot2=go.Figure(data=bit_data,layout=lyout)"
   ]
  },
  {
   "cell_type": "code",
   "execution_count": 22,
   "metadata": {},
   "outputs": [
    {
     "data": {
      "application/vnd.plotly.v1+json": {
       "config": {
        "linkText": "Export to plot.ly",
        "plotlyServerURL": "https://plot.ly",
        "showLink": false
       },
       "data": [
        {
         "mode": "markers",
         "name": "Actual",
         "type": "scatter",
         "x": [
          331,
          257,
          66,
          362,
          354,
          5,
          335,
          133,
          336,
          123,
          275,
          104,
          306,
          279,
          55,
          106,
          131,
          180,
          141,
          75,
          239,
          342,
          47,
          205,
          22,
          155,
          15,
          302,
          251,
          182,
          248,
          189,
          267,
          320,
          226,
          296,
          64,
          10,
          158,
          252,
          61,
          36,
          332,
          102,
          148,
          277,
          346,
          207,
          273,
          18,
          240,
          173,
          318,
          358,
          228,
          58,
          20,
          175,
          144,
          313,
          35,
          333,
          0,
          360,
          49,
          210,
          185,
          67,
          349,
          241,
          199,
          310,
          208,
          345,
          134,
          206,
          284,
          174,
          107,
          65,
          247,
          265,
          140,
          121,
          325,
          192,
          245,
          32,
          242,
          45,
          70,
          359,
          73,
          152,
          288,
          303,
          201,
          194,
          7,
          95,
          139,
          153,
          23,
          316,
          214,
          268,
          108,
          276,
          171,
          78,
          244,
          177,
          260,
          250,
          159,
          87,
          86,
          110,
          290,
          21,
          143,
          88,
          327,
          274,
          105,
          287,
          91,
          291,
          339,
          184,
          278,
          128,
          286,
          149,
          31,
          170,
          266,
          190,
          259,
          80,
          145,
          77,
          167,
          168,
          132,
          236,
          363,
          48,
          130,
          282,
          71,
          50,
          281,
          116,
          92,
          79,
          263,
          42,
          203,
          321,
          280,
          89,
          348,
          72,
          3,
          294,
          352,
          212,
          96,
          124,
          298,
          183,
          163,
          224,
          57,
          27,
          74,
          14,
          329,
          85,
          317,
          38,
          347,
          188,
          4,
          98,
          350,
          234,
          344,
          82,
          311,
          295,
          11,
          37,
          126,
          125,
          53,
          93,
          81,
          33,
          43,
          19,
          285,
          129,
          94,
          223,
          235,
          307,
          198,
          76,
          12,
          237,
          225,
          249,
          322,
          29,
          271,
          361,
          6,
          114,
          256,
          292,
          343,
          326,
          233,
          118,
          101,
          338,
          162,
          137,
          283,
          340,
          365,
          200,
          195,
          193,
          186,
          59,
          357,
          262,
          191,
          25,
          119,
          230,
          112,
          8,
          219,
          127,
          169,
          142,
          254,
          220,
          196,
          69
         ],
         "y": [
          59095.80859400001,
          35791.277344,
          9278.807617,
          56631.078125,
          50050.867188,
          8756.430664,
          59057.87890599999,
          10796.951172,
          58192.359375,
          10169.567383,
          36926.066406,
          12254.402344,
          51206.691406,
          46196.464844,
          9190.854492,
          11758.283203,
          10323.755859,
          13737.109375,
          10225.864258,
          9185.817383,
          28840.953125,
          59893.453125,
          9303.629883,
          17150.623047,
          9181.017578,
          10679.136719,
          9522.981445,
          50538.242188,
          35566.65625,
          13950.300781,
          40797.609375,
          15290.902344,
          30432.546875,
          57523.421875,
          22805.162109,
          47093.851563,
          9428.333008,
          9328.197266,
          11296.361328,
          33922.960938,
          9073.942383,
          9870.094727,
          59384.3125,
          11865.698242,
          10787.618164,
          39266.011719,
          61572.789063,
          17717.414063,
          35510.289063,
          9209.287109,
          29001.720702999995,
          13031.173828,
          58346.65234400001,
          54824.703125,
          23869.832031,
          9123.410156,
          8906.93457,
          13654.21875,
          10754.4375,
          59302.31640599999,
          9795.700195,
          57603.890625,
          9003.070313,
          57750.17578099999,
          9629.658203,
          18802.998047,
          15565.880859,
          9240.34668,
          55724.265625,
          29374.152344,
          18621.314453,
          57805.12109400001,
          18177.484375,
          63314.01171900001,
          10974.905273,
          17108.402344,
          47105.515625,
          13075.248047,
          11878.37207,
          9277.967773,
          39371.042969,
          32366.392577999995,
          10538.459961,
          10245.296875,
          55137.3125,
          16317.808594,
          33992.429688,
          9653.679688,
          32127.267577999995,
          9288.018555,
          9243.213867,
          53555.109375,
          9151.392578,
          10684.428711,
          52149.007813,
          48561.167969,
          18370.001953,
          15955.587891,
          8804.477539,
          11754.045898,
          10462.259766,
          10804.000977,
          9525.750977,
          58870.89453099999,
          19154.230469,
          31649.605469,
          11592.489258,
          38144.308594,
          12931.539063,
          9525.363281,
          31971.914063,
          13437.882813,
          35547.75,
          38356.441406,
          11384.181641,
          11323.466797,
          11111.213867,
          11664.847656,
          55888.132813,
          8835.052734,
          10702.290039,
          11759.592773,
          55950.74609400001,
          37472.089844,
          11991.233398,
          49199.871094,
          11205.892578,
          56099.51953099999,
          58245.00390599999,
          15579.848633000001,
          38903.441406,
          10363.138672,
          47945.058594,
          10623.330078,
          9665.533203,
          12965.891602,
          32569.849608999997,
          15701.339844,
          36069.804688,
          9536.892578,
          10774.426758,
          9374.887695,
          11742.037109,
          11916.334961,
          10680.837891,
          26272.294922,
          57200.29296900001,
          9648.717773,
          10442.170898,
          47909.332031,
          9192.836914,
          9313.610352,
          44918.183594,
          11506.865234,
          11747.022461,
          9581.072266,
          32067.642577999995,
          9538.024414,
          19107.464844,
          54529.14453099999,
          46481.105469,
          11053.614258,
          56216.18359400001,
          9132.227539,
          9842.666016,
          48824.425781,
          51762.273438,
          19445.398438,
          11675.739258,
          10280.351563,
          46188.453125,
          14133.707031,
          11495.349609,
          19417.076172,
          9228.325195,
          10167.268555,
          9159.040039,
          9729.038086,
          58917.69140599999,
          11100.467773,
          57858.921875,
          9480.84375,
          60683.820313,
          15332.31543,
          9593.896484,
          11410.525391,
          56473.03125,
          24664.791016,
          63109.695313,
          9905.166992,
          57332.08984400001,
          49705.332031,
          9377.013672,
          9321.78125,
          10131.516602,
          10369.563477,
          9045.390625,
          11779.773438,
          9677.113281,
          9758.852539,
          9480.254883,
          8790.368164,
          48717.289063,
          10400.915039,
          11601.472656,
          19246.644531,
          26437.037109,
          52246.523438,
          17817.089844,
          9164.231445,
          9670.739258,
          27084.808594,
          21310.597656,
          40254.546875,
          54738.945313,
          9656.717773,
          33114.359375,
          57828.05078099999,
          8601.795898,
          11323.397461,
          36178.140625,
          57539.945313,
          63503.45703099999,
          55973.51171900001,
          23735.949219,
          11680.820313,
          11768.871094,
          58323.953125,
          11429.506836,
          11094.34668,
          47504.851563,
          59793.234375,
          55446.179688,
          18642.232422,
          16716.111328,
          16068.138672,
          14833.753906,
          9087.303711,
          55033.117188,
          33005.761719,
          16276.34375,
          9700.414063,
          11970.478516,
          22803.082031,
          11366.134766,
          9269.987305,
          18264.992188,
          10242.347656,
          12823.689453,
          10745.548828,
          39187.328125,
          18058.904297,
          17645.40625,
          9243.614258
         ]
        },
        {
         "mode": "lines",
         "name": "Predicted",
         "type": "scatter",
         "x": [
          331,
          257,
          66,
          362,
          354,
          5,
          335,
          133,
          336,
          123,
          275,
          104,
          306,
          279,
          55,
          106,
          131,
          180,
          141,
          75,
          239,
          342,
          47,
          205,
          22,
          155,
          15,
          302,
          251,
          182,
          248,
          189,
          267,
          320,
          226,
          296,
          64,
          10,
          158,
          252,
          61,
          36,
          332,
          102,
          148,
          277,
          346,
          207,
          273,
          18,
          240,
          173,
          318,
          358,
          228,
          58,
          20,
          175,
          144,
          313,
          35,
          333,
          0,
          360,
          49,
          210,
          185,
          67,
          349,
          241,
          199,
          310,
          208,
          345,
          134,
          206,
          284,
          174,
          107,
          65,
          247,
          265,
          140,
          121,
          325,
          192,
          245,
          32,
          242,
          45,
          70,
          359,
          73,
          152,
          288,
          303,
          201,
          194,
          7,
          95,
          139,
          153,
          23,
          316,
          214,
          268,
          108,
          276,
          171,
          78,
          244,
          177,
          260,
          250,
          159,
          87,
          86,
          110,
          290,
          21,
          143,
          88,
          327,
          274,
          105,
          287,
          91,
          291,
          339,
          184,
          278,
          128,
          286,
          149,
          31,
          170,
          266,
          190,
          259,
          80,
          145,
          77,
          167,
          168,
          132,
          236,
          363,
          48,
          130,
          282,
          71,
          50,
          281,
          116,
          92,
          79,
          263,
          42,
          203,
          321,
          280,
          89,
          348,
          72,
          3,
          294,
          352,
          212,
          96,
          124,
          298,
          183,
          163,
          224,
          57,
          27,
          74,
          14,
          329,
          85,
          317,
          38,
          347,
          188,
          4,
          98,
          350,
          234,
          344,
          82,
          311,
          295,
          11,
          37,
          126,
          125,
          53,
          93,
          81,
          33,
          43,
          19,
          285,
          129,
          94,
          223,
          235,
          307,
          198,
          76,
          12,
          237,
          225,
          249,
          322,
          29,
          271,
          361,
          6,
          114,
          256,
          292,
          343,
          326,
          233,
          118,
          101,
          338,
          162,
          137,
          283,
          340,
          365,
          200,
          195,
          193,
          186,
          59,
          357,
          262,
          191,
          25,
          119,
          230,
          112,
          8,
          219,
          127,
          169,
          142,
          254,
          220,
          196,
          69
         ],
         "y": [
          48767.93074372843,
          37028.90025019726,
          6729.510733110032,
          53685.632707234734,
          52416.54832955569,
          -2947.2576466926926,
          49402.47293256795,
          17358.092396172044,
          49561.10847977783,
          15771.736924073233,
          39884.3400999751,
          12757.6615270855,
          44802.04206348141,
          40518.882288814624,
          4984.519713801345,
          13074.93262150526,
          17040.82130175228,
          24813.963115036437,
          18627.17677385109,
          8157.23065799896,
          34173.4604004194,
          50512.92176303711,
          3715.4353361222984,
          28779.851795283455,
          -250.45334412471993,
          20848.074434789418,
          -1360.9021745938853,
          44167.499874641886,
          36077.086966937975,
          25131.234209456197,
          35601.180325308334,
          26241.683039925363,
          38615.25572229606,
          47022.939724419746,
          32111.19828669095,
          43215.686591382604,
          6412.239638690271,
          -2154.0799106432887,
          21323.981076419062,
          36235.722514147856,
          5936.332997060628,
          1970.4443168136104,
          48926.56629093831,
          12440.39043266574,
          19737.625604320252,
          40201.61119439486,
          51147.463951876634,
          29097.122889703216,
          39567.06900555534,
          -884.995532964243,
          34332.09594762928,
          23703.51428456727,
          46705.668629999986,
          53051.09051839521,
          32428.46938111071,
          5460.426355430987,
          -567.7244385444815,
          24020.785378987035,
          19103.08341548073,
          45912.49089395057,
          1811.8087696037292,
          49085.20183814819,
          -3740.4353827420964,
          53368.36161281497,
          4032.70643054206,
          29573.029531332857,
          25607.140851085842,
          6888.146280319914,
          51623.370593506275,
          34490.73149483916,
          27828.03851202417,
          45436.58425232093,
          29255.758436913096,
          50988.828404666754,
          17516.727943381924,
          28938.487342493336,
          41312.06002486404,
          23862.14983177715,
          13233.568168715145,
          6570.875185900151,
          35442.54477809844,
          38297.9846278763,
          18468.541226641206,
          15454.465829653473,
          47816.11746046915,
          26717.589681555004,
          35125.27368367868,
          1335.9021279740873,
          34649.36704204904,
          3398.164241702537,
          7364.052921949555,
          53209.72606560509,
          7839.9595635791975,
          20372.167793159777,
          41946.60221370356,
          44326.135421851766,
          28145.309606443934,
          27034.86077597477,
          -2629.9865522729315,
          11329.941602196574,
          18309.905679431326,
          20530.803340369657,
          -91.81779691483916,
          46388.397535580225,
          30207.571720172386,
          38773.89126950594,
          13392.203715925025,
          40042.97564718498,
          23386.24319014751,
          8633.1372996286,
          34966.6381364688,
          24338.056473406796,
          37504.8068918269,
          35918.451419728095,
          21482.616623628943,
          10060.857224517527,
          9902.221677307647,
          13709.474810344786,
          42263.87330812332,
          -409.0888913346007,
          18944.44786827085,
          10219.49277172741,
          48133.38855488891,
          39725.70455276522,
          12916.29707429538,
          41787.96666649368,
          10695.39941335705,
          42422.5088553332,
          50037.01512140747,
          25448.50530387596,
          40360.246741604744,
          16564.91466012264,
          41629.3311192838,
          19896.261151530132,
          1177.266580764207,
          23227.60764293763,
          38456.62017508618,
          26400.318587135243,
          37346.17134461702,
          8950.408394048363,
          19261.71896269061,
          8474.50175241872,
          22751.70100130799,
          22910.33654851787,
          17199.45684896216,
          33697.553758789756,
          53844.268254444614,
          3874.0708833321787,
          16882.1857545424,
          40994.78893044428,
          7522.688469159437,
          4191.34197775194,
          40836.153383234385,
          14661.288093604071,
          10854.034960566933,
          8791.772846838483,
          37980.71353345654,
          2922.257600072895,
          28462.580700863695,
          47181.57527162963,
          40677.517836024505,
          10378.12831893729,
          51464.735046296395,
          7681.324016369317,
          -3264.528741112454,
          42898.41549696284,
          52099.27723513593,
          29890.300625752618,
          11488.577149406454,
          15930.372471283117,
          43532.957685802365,
          25289.869756666078,
          22117.158812468464,
          31793.92719227119,
          5301.790808221105,
          542.7243919246839,
          7998.595110789078,
          -1519.537721803766,
          48450.65964930867,
          9743.586130097767,
          46547.033082790105,
          2287.715411233372,
          51306.099499086515,
          26083.047492715483,
          -3105.8931939025733,
          11805.848243826216,
          51782.00614071617,
          33380.282664369995,
          50830.192857456874,
          9267.679488468124,
          45595.21979953081,
          43057.051044172724,
          -1995.4443634334082,
          2129.0798640234907,
          16247.643565702878,
          16089.008018492998,
          4667.248619381582,
          11012.670507776813,
          9109.043941258244,
          1494.5376751839676,
          3080.8931472827753,
          -726.3599857543622,
          41470.69557207392,
          16723.55020733252,
          11171.306054986693,
          31635.29164506131,
          33538.918211579876,
          44960.67761069129,
          27669.40296481429,
          8315.86620520884,
          -1836.8088162235276,
          33856.18930599964,
          31952.56273948107,
          35759.815872518215,
          47340.21081883951,
          859.9954863444455,
          39249.79791113558,
          53526.997160024854,
          -2788.622099482812,
          14344.016999184307,
          36870.26470298738,
          42581.14440254308,
          50671.55731024699,
          47974.75300767903,
          33221.647117160115,
          14978.559188023832,
          12281.754885455859,
          49878.37957419759,
          21958.523265258584,
          17992.634585011565,
          41153.42447765416,
          50195.65066861735,
          54161.539348864375,
          27986.67405923405,
          27193.49632318465,
          26876.225228764888,
          25765.776398295722,
          5619.061902640868,
          52892.45497118533,
          37822.07798624666,
          26558.954134345124,
          225.45329750492192,
          15137.194735233712,
          32745.74047553047,
          14026.745904764546,
          -2471.3510050630503,
          31000.749456221787,
          16406.279112912758,
          23068.97209572775,
          18785.81232106097,
          36552.993608567616,
          31159.385003431667,
          27352.13187039453,
          7205.417374739674
         ]
        }
       ],
       "layout": {
        "template": {
         "data": {
          "bar": [
           {
            "error_x": {
             "color": "#2a3f5f"
            },
            "error_y": {
             "color": "#2a3f5f"
            },
            "marker": {
             "line": {
              "color": "#E5ECF6",
              "width": 0.5
             }
            },
            "type": "bar"
           }
          ],
          "barpolar": [
           {
            "marker": {
             "line": {
              "color": "#E5ECF6",
              "width": 0.5
             }
            },
            "type": "barpolar"
           }
          ],
          "carpet": [
           {
            "aaxis": {
             "endlinecolor": "#2a3f5f",
             "gridcolor": "white",
             "linecolor": "white",
             "minorgridcolor": "white",
             "startlinecolor": "#2a3f5f"
            },
            "baxis": {
             "endlinecolor": "#2a3f5f",
             "gridcolor": "white",
             "linecolor": "white",
             "minorgridcolor": "white",
             "startlinecolor": "#2a3f5f"
            },
            "type": "carpet"
           }
          ],
          "choropleth": [
           {
            "colorbar": {
             "outlinewidth": 0,
             "ticks": ""
            },
            "type": "choropleth"
           }
          ],
          "contour": [
           {
            "colorbar": {
             "outlinewidth": 0,
             "ticks": ""
            },
            "colorscale": [
             [
              0,
              "#0d0887"
             ],
             [
              0.1111111111111111,
              "#46039f"
             ],
             [
              0.2222222222222222,
              "#7201a8"
             ],
             [
              0.3333333333333333,
              "#9c179e"
             ],
             [
              0.4444444444444444,
              "#bd3786"
             ],
             [
              0.5555555555555556,
              "#d8576b"
             ],
             [
              0.6666666666666666,
              "#ed7953"
             ],
             [
              0.7777777777777778,
              "#fb9f3a"
             ],
             [
              0.8888888888888888,
              "#fdca26"
             ],
             [
              1,
              "#f0f921"
             ]
            ],
            "type": "contour"
           }
          ],
          "contourcarpet": [
           {
            "colorbar": {
             "outlinewidth": 0,
             "ticks": ""
            },
            "type": "contourcarpet"
           }
          ],
          "heatmap": [
           {
            "colorbar": {
             "outlinewidth": 0,
             "ticks": ""
            },
            "colorscale": [
             [
              0,
              "#0d0887"
             ],
             [
              0.1111111111111111,
              "#46039f"
             ],
             [
              0.2222222222222222,
              "#7201a8"
             ],
             [
              0.3333333333333333,
              "#9c179e"
             ],
             [
              0.4444444444444444,
              "#bd3786"
             ],
             [
              0.5555555555555556,
              "#d8576b"
             ],
             [
              0.6666666666666666,
              "#ed7953"
             ],
             [
              0.7777777777777778,
              "#fb9f3a"
             ],
             [
              0.8888888888888888,
              "#fdca26"
             ],
             [
              1,
              "#f0f921"
             ]
            ],
            "type": "heatmap"
           }
          ],
          "heatmapgl": [
           {
            "colorbar": {
             "outlinewidth": 0,
             "ticks": ""
            },
            "colorscale": [
             [
              0,
              "#0d0887"
             ],
             [
              0.1111111111111111,
              "#46039f"
             ],
             [
              0.2222222222222222,
              "#7201a8"
             ],
             [
              0.3333333333333333,
              "#9c179e"
             ],
             [
              0.4444444444444444,
              "#bd3786"
             ],
             [
              0.5555555555555556,
              "#d8576b"
             ],
             [
              0.6666666666666666,
              "#ed7953"
             ],
             [
              0.7777777777777778,
              "#fb9f3a"
             ],
             [
              0.8888888888888888,
              "#fdca26"
             ],
             [
              1,
              "#f0f921"
             ]
            ],
            "type": "heatmapgl"
           }
          ],
          "histogram": [
           {
            "marker": {
             "colorbar": {
              "outlinewidth": 0,
              "ticks": ""
             }
            },
            "type": "histogram"
           }
          ],
          "histogram2d": [
           {
            "colorbar": {
             "outlinewidth": 0,
             "ticks": ""
            },
            "colorscale": [
             [
              0,
              "#0d0887"
             ],
             [
              0.1111111111111111,
              "#46039f"
             ],
             [
              0.2222222222222222,
              "#7201a8"
             ],
             [
              0.3333333333333333,
              "#9c179e"
             ],
             [
              0.4444444444444444,
              "#bd3786"
             ],
             [
              0.5555555555555556,
              "#d8576b"
             ],
             [
              0.6666666666666666,
              "#ed7953"
             ],
             [
              0.7777777777777778,
              "#fb9f3a"
             ],
             [
              0.8888888888888888,
              "#fdca26"
             ],
             [
              1,
              "#f0f921"
             ]
            ],
            "type": "histogram2d"
           }
          ],
          "histogram2dcontour": [
           {
            "colorbar": {
             "outlinewidth": 0,
             "ticks": ""
            },
            "colorscale": [
             [
              0,
              "#0d0887"
             ],
             [
              0.1111111111111111,
              "#46039f"
             ],
             [
              0.2222222222222222,
              "#7201a8"
             ],
             [
              0.3333333333333333,
              "#9c179e"
             ],
             [
              0.4444444444444444,
              "#bd3786"
             ],
             [
              0.5555555555555556,
              "#d8576b"
             ],
             [
              0.6666666666666666,
              "#ed7953"
             ],
             [
              0.7777777777777778,
              "#fb9f3a"
             ],
             [
              0.8888888888888888,
              "#fdca26"
             ],
             [
              1,
              "#f0f921"
             ]
            ],
            "type": "histogram2dcontour"
           }
          ],
          "mesh3d": [
           {
            "colorbar": {
             "outlinewidth": 0,
             "ticks": ""
            },
            "type": "mesh3d"
           }
          ],
          "parcoords": [
           {
            "line": {
             "colorbar": {
              "outlinewidth": 0,
              "ticks": ""
             }
            },
            "type": "parcoords"
           }
          ],
          "pie": [
           {
            "automargin": true,
            "type": "pie"
           }
          ],
          "scatter": [
           {
            "marker": {
             "colorbar": {
              "outlinewidth": 0,
              "ticks": ""
             }
            },
            "type": "scatter"
           }
          ],
          "scatter3d": [
           {
            "line": {
             "colorbar": {
              "outlinewidth": 0,
              "ticks": ""
             }
            },
            "marker": {
             "colorbar": {
              "outlinewidth": 0,
              "ticks": ""
             }
            },
            "type": "scatter3d"
           }
          ],
          "scattercarpet": [
           {
            "marker": {
             "colorbar": {
              "outlinewidth": 0,
              "ticks": ""
             }
            },
            "type": "scattercarpet"
           }
          ],
          "scattergeo": [
           {
            "marker": {
             "colorbar": {
              "outlinewidth": 0,
              "ticks": ""
             }
            },
            "type": "scattergeo"
           }
          ],
          "scattergl": [
           {
            "marker": {
             "colorbar": {
              "outlinewidth": 0,
              "ticks": ""
             }
            },
            "type": "scattergl"
           }
          ],
          "scattermapbox": [
           {
            "marker": {
             "colorbar": {
              "outlinewidth": 0,
              "ticks": ""
             }
            },
            "type": "scattermapbox"
           }
          ],
          "scatterpolar": [
           {
            "marker": {
             "colorbar": {
              "outlinewidth": 0,
              "ticks": ""
             }
            },
            "type": "scatterpolar"
           }
          ],
          "scatterpolargl": [
           {
            "marker": {
             "colorbar": {
              "outlinewidth": 0,
              "ticks": ""
             }
            },
            "type": "scatterpolargl"
           }
          ],
          "scatterternary": [
           {
            "marker": {
             "colorbar": {
              "outlinewidth": 0,
              "ticks": ""
             }
            },
            "type": "scatterternary"
           }
          ],
          "surface": [
           {
            "colorbar": {
             "outlinewidth": 0,
             "ticks": ""
            },
            "colorscale": [
             [
              0,
              "#0d0887"
             ],
             [
              0.1111111111111111,
              "#46039f"
             ],
             [
              0.2222222222222222,
              "#7201a8"
             ],
             [
              0.3333333333333333,
              "#9c179e"
             ],
             [
              0.4444444444444444,
              "#bd3786"
             ],
             [
              0.5555555555555556,
              "#d8576b"
             ],
             [
              0.6666666666666666,
              "#ed7953"
             ],
             [
              0.7777777777777778,
              "#fb9f3a"
             ],
             [
              0.8888888888888888,
              "#fdca26"
             ],
             [
              1,
              "#f0f921"
             ]
            ],
            "type": "surface"
           }
          ],
          "table": [
           {
            "cells": {
             "fill": {
              "color": "#EBF0F8"
             },
             "line": {
              "color": "white"
             }
            },
            "header": {
             "fill": {
              "color": "#C8D4E3"
             },
             "line": {
              "color": "white"
             }
            },
            "type": "table"
           }
          ]
         },
         "layout": {
          "annotationdefaults": {
           "arrowcolor": "#2a3f5f",
           "arrowhead": 0,
           "arrowwidth": 1
          },
          "autotypenumbers": "strict",
          "coloraxis": {
           "colorbar": {
            "outlinewidth": 0,
            "ticks": ""
           }
          },
          "colorscale": {
           "diverging": [
            [
             0,
             "#8e0152"
            ],
            [
             0.1,
             "#c51b7d"
            ],
            [
             0.2,
             "#de77ae"
            ],
            [
             0.3,
             "#f1b6da"
            ],
            [
             0.4,
             "#fde0ef"
            ],
            [
             0.5,
             "#f7f7f7"
            ],
            [
             0.6,
             "#e6f5d0"
            ],
            [
             0.7,
             "#b8e186"
            ],
            [
             0.8,
             "#7fbc41"
            ],
            [
             0.9,
             "#4d9221"
            ],
            [
             1,
             "#276419"
            ]
           ],
           "sequential": [
            [
             0,
             "#0d0887"
            ],
            [
             0.1111111111111111,
             "#46039f"
            ],
            [
             0.2222222222222222,
             "#7201a8"
            ],
            [
             0.3333333333333333,
             "#9c179e"
            ],
            [
             0.4444444444444444,
             "#bd3786"
            ],
            [
             0.5555555555555556,
             "#d8576b"
            ],
            [
             0.6666666666666666,
             "#ed7953"
            ],
            [
             0.7777777777777778,
             "#fb9f3a"
            ],
            [
             0.8888888888888888,
             "#fdca26"
            ],
            [
             1,
             "#f0f921"
            ]
           ],
           "sequentialminus": [
            [
             0,
             "#0d0887"
            ],
            [
             0.1111111111111111,
             "#46039f"
            ],
            [
             0.2222222222222222,
             "#7201a8"
            ],
            [
             0.3333333333333333,
             "#9c179e"
            ],
            [
             0.4444444444444444,
             "#bd3786"
            ],
            [
             0.5555555555555556,
             "#d8576b"
            ],
            [
             0.6666666666666666,
             "#ed7953"
            ],
            [
             0.7777777777777778,
             "#fb9f3a"
            ],
            [
             0.8888888888888888,
             "#fdca26"
            ],
            [
             1,
             "#f0f921"
            ]
           ]
          },
          "colorway": [
           "#636efa",
           "#EF553B",
           "#00cc96",
           "#ab63fa",
           "#FFA15A",
           "#19d3f3",
           "#FF6692",
           "#B6E880",
           "#FF97FF",
           "#FECB52"
          ],
          "font": {
           "color": "#2a3f5f"
          },
          "geo": {
           "bgcolor": "white",
           "lakecolor": "white",
           "landcolor": "#E5ECF6",
           "showlakes": true,
           "showland": true,
           "subunitcolor": "white"
          },
          "hoverlabel": {
           "align": "left"
          },
          "hovermode": "closest",
          "mapbox": {
           "style": "light"
          },
          "paper_bgcolor": "white",
          "plot_bgcolor": "#E5ECF6",
          "polar": {
           "angularaxis": {
            "gridcolor": "white",
            "linecolor": "white",
            "ticks": ""
           },
           "bgcolor": "#E5ECF6",
           "radialaxis": {
            "gridcolor": "white",
            "linecolor": "white",
            "ticks": ""
           }
          },
          "scene": {
           "xaxis": {
            "backgroundcolor": "#E5ECF6",
            "gridcolor": "white",
            "gridwidth": 2,
            "linecolor": "white",
            "showbackground": true,
            "ticks": "",
            "zerolinecolor": "white"
           },
           "yaxis": {
            "backgroundcolor": "#E5ECF6",
            "gridcolor": "white",
            "gridwidth": 2,
            "linecolor": "white",
            "showbackground": true,
            "ticks": "",
            "zerolinecolor": "white"
           },
           "zaxis": {
            "backgroundcolor": "#E5ECF6",
            "gridcolor": "white",
            "gridwidth": 2,
            "linecolor": "white",
            "showbackground": true,
            "ticks": "",
            "zerolinecolor": "white"
           }
          },
          "shapedefaults": {
           "line": {
            "color": "#2a3f5f"
           }
          },
          "ternary": {
           "aaxis": {
            "gridcolor": "white",
            "linecolor": "white",
            "ticks": ""
           },
           "baxis": {
            "gridcolor": "white",
            "linecolor": "white",
            "ticks": ""
           },
           "bgcolor": "#E5ECF6",
           "caxis": {
            "gridcolor": "white",
            "linecolor": "white",
            "ticks": ""
           }
          },
          "title": {
           "x": 0.05
          },
          "xaxis": {
           "automargin": true,
           "gridcolor": "white",
           "linecolor": "white",
           "ticks": "",
           "title": {
            "standoff": 15
           },
           "zerolinecolor": "white",
           "zerolinewidth": 2
          },
          "yaxis": {
           "automargin": true,
           "gridcolor": "white",
           "linecolor": "white",
           "ticks": "",
           "title": {
            "standoff": 15
           },
           "zerolinecolor": "white",
           "zerolinewidth": 2
          }
         }
        },
        "title": {
         "text": "Stock Prices of Bitcoin"
        },
        "xaxis": {
         "title": {
          "font": {
           "color": "#7f7f7f",
           "size": 18
          },
          "text": "Date"
         }
        },
        "yaxis": {
         "title": {
          "font": {
           "color": "#7f7f7f",
           "size": 18
          },
          "text": "Price"
         }
        }
       }
      },
      "text/html": [
       "<div>                            <div id=\"82c40ea6-ad40-44a4-b486-d2edc69083eb\" class=\"plotly-graph-div\" style=\"height:525px; width:100%;\"></div>            <script type=\"text/javascript\">                require([\"plotly\"], function(Plotly) {                    window.PLOTLYENV=window.PLOTLYENV || {};                                    if (document.getElementById(\"82c40ea6-ad40-44a4-b486-d2edc69083eb\")) {                    Plotly.newPlot(                        \"82c40ea6-ad40-44a4-b486-d2edc69083eb\",                        [{\"mode\": \"markers\", \"name\": \"Actual\", \"type\": \"scatter\", \"x\": [331, 257, 66, 362, 354, 5, 335, 133, 336, 123, 275, 104, 306, 279, 55, 106, 131, 180, 141, 75, 239, 342, 47, 205, 22, 155, 15, 302, 251, 182, 248, 189, 267, 320, 226, 296, 64, 10, 158, 252, 61, 36, 332, 102, 148, 277, 346, 207, 273, 18, 240, 173, 318, 358, 228, 58, 20, 175, 144, 313, 35, 333, 0, 360, 49, 210, 185, 67, 349, 241, 199, 310, 208, 345, 134, 206, 284, 174, 107, 65, 247, 265, 140, 121, 325, 192, 245, 32, 242, 45, 70, 359, 73, 152, 288, 303, 201, 194, 7, 95, 139, 153, 23, 316, 214, 268, 108, 276, 171, 78, 244, 177, 260, 250, 159, 87, 86, 110, 290, 21, 143, 88, 327, 274, 105, 287, 91, 291, 339, 184, 278, 128, 286, 149, 31, 170, 266, 190, 259, 80, 145, 77, 167, 168, 132, 236, 363, 48, 130, 282, 71, 50, 281, 116, 92, 79, 263, 42, 203, 321, 280, 89, 348, 72, 3, 294, 352, 212, 96, 124, 298, 183, 163, 224, 57, 27, 74, 14, 329, 85, 317, 38, 347, 188, 4, 98, 350, 234, 344, 82, 311, 295, 11, 37, 126, 125, 53, 93, 81, 33, 43, 19, 285, 129, 94, 223, 235, 307, 198, 76, 12, 237, 225, 249, 322, 29, 271, 361, 6, 114, 256, 292, 343, 326, 233, 118, 101, 338, 162, 137, 283, 340, 365, 200, 195, 193, 186, 59, 357, 262, 191, 25, 119, 230, 112, 8, 219, 127, 169, 142, 254, 220, 196, 69], \"y\": [59095.80859400001, 35791.277344, 9278.807617, 56631.078125, 50050.867188, 8756.430664, 59057.87890599999, 10796.951172, 58192.359375, 10169.567383, 36926.066406, 12254.402344, 51206.691406, 46196.464844, 9190.854492, 11758.283203, 10323.755859, 13737.109375, 10225.864258, 9185.817383, 28840.953125, 59893.453125, 9303.629883, 17150.623047, 9181.017578, 10679.136719, 9522.981445, 50538.242188, 35566.65625, 13950.300781, 40797.609375, 15290.902344, 30432.546875, 57523.421875, 22805.162109, 47093.851563, 9428.333008, 9328.197266, 11296.361328, 33922.960938, 9073.942383, 9870.094727, 59384.3125, 11865.698242, 10787.618164, 39266.011719, 61572.789063, 17717.414063, 35510.289063, 9209.287109, 29001.720702999995, 13031.173828, 58346.65234400001, 54824.703125, 23869.832031, 9123.410156, 8906.93457, 13654.21875, 10754.4375, 59302.31640599999, 9795.700195, 57603.890625, 9003.070313, 57750.17578099999, 9629.658203, 18802.998047, 15565.880859, 9240.34668, 55724.265625, 29374.152344, 18621.314453, 57805.12109400001, 18177.484375, 63314.01171900001, 10974.905273, 17108.402344, 47105.515625, 13075.248047, 11878.37207, 9277.967773, 39371.042969, 32366.392577999995, 10538.459961, 10245.296875, 55137.3125, 16317.808594, 33992.429688, 9653.679688, 32127.267577999995, 9288.018555, 9243.213867, 53555.109375, 9151.392578, 10684.428711, 52149.007813, 48561.167969, 18370.001953, 15955.587891, 8804.477539, 11754.045898, 10462.259766, 10804.000977, 9525.750977, 58870.89453099999, 19154.230469, 31649.605469, 11592.489258, 38144.308594, 12931.539063, 9525.363281, 31971.914063, 13437.882813, 35547.75, 38356.441406, 11384.181641, 11323.466797, 11111.213867, 11664.847656, 55888.132813, 8835.052734, 10702.290039, 11759.592773, 55950.74609400001, 37472.089844, 11991.233398, 49199.871094, 11205.892578, 56099.51953099999, 58245.00390599999, 15579.848633000001, 38903.441406, 10363.138672, 47945.058594, 10623.330078, 9665.533203, 12965.891602, 32569.849608999997, 15701.339844, 36069.804688, 9536.892578, 10774.426758, 9374.887695, 11742.037109, 11916.334961, 10680.837891, 26272.294922, 57200.29296900001, 9648.717773, 10442.170898, 47909.332031, 9192.836914, 9313.610352, 44918.183594, 11506.865234, 11747.022461, 9581.072266, 32067.642577999995, 9538.024414, 19107.464844, 54529.14453099999, 46481.105469, 11053.614258, 56216.18359400001, 9132.227539, 9842.666016, 48824.425781, 51762.273438, 19445.398438, 11675.739258, 10280.351563, 46188.453125, 14133.707031, 11495.349609, 19417.076172, 9228.325195, 10167.268555, 9159.040039, 9729.038086, 58917.69140599999, 11100.467773, 57858.921875, 9480.84375, 60683.820313, 15332.31543, 9593.896484, 11410.525391, 56473.03125, 24664.791016, 63109.695313, 9905.166992, 57332.08984400001, 49705.332031, 9377.013672, 9321.78125, 10131.516602, 10369.563477, 9045.390625, 11779.773438, 9677.113281, 9758.852539, 9480.254883, 8790.368164, 48717.289063, 10400.915039, 11601.472656, 19246.644531, 26437.037109, 52246.523438, 17817.089844, 9164.231445, 9670.739258, 27084.808594, 21310.597656, 40254.546875, 54738.945313, 9656.717773, 33114.359375, 57828.05078099999, 8601.795898, 11323.397461, 36178.140625, 57539.945313, 63503.45703099999, 55973.51171900001, 23735.949219, 11680.820313, 11768.871094, 58323.953125, 11429.506836, 11094.34668, 47504.851563, 59793.234375, 55446.179688, 18642.232422, 16716.111328, 16068.138672, 14833.753906, 9087.303711, 55033.117188, 33005.761719, 16276.34375, 9700.414063, 11970.478516, 22803.082031, 11366.134766, 9269.987305, 18264.992188, 10242.347656, 12823.689453, 10745.548828, 39187.328125, 18058.904297, 17645.40625, 9243.614258]}, {\"mode\": \"lines\", \"name\": \"Predicted\", \"type\": \"scatter\", \"x\": [331, 257, 66, 362, 354, 5, 335, 133, 336, 123, 275, 104, 306, 279, 55, 106, 131, 180, 141, 75, 239, 342, 47, 205, 22, 155, 15, 302, 251, 182, 248, 189, 267, 320, 226, 296, 64, 10, 158, 252, 61, 36, 332, 102, 148, 277, 346, 207, 273, 18, 240, 173, 318, 358, 228, 58, 20, 175, 144, 313, 35, 333, 0, 360, 49, 210, 185, 67, 349, 241, 199, 310, 208, 345, 134, 206, 284, 174, 107, 65, 247, 265, 140, 121, 325, 192, 245, 32, 242, 45, 70, 359, 73, 152, 288, 303, 201, 194, 7, 95, 139, 153, 23, 316, 214, 268, 108, 276, 171, 78, 244, 177, 260, 250, 159, 87, 86, 110, 290, 21, 143, 88, 327, 274, 105, 287, 91, 291, 339, 184, 278, 128, 286, 149, 31, 170, 266, 190, 259, 80, 145, 77, 167, 168, 132, 236, 363, 48, 130, 282, 71, 50, 281, 116, 92, 79, 263, 42, 203, 321, 280, 89, 348, 72, 3, 294, 352, 212, 96, 124, 298, 183, 163, 224, 57, 27, 74, 14, 329, 85, 317, 38, 347, 188, 4, 98, 350, 234, 344, 82, 311, 295, 11, 37, 126, 125, 53, 93, 81, 33, 43, 19, 285, 129, 94, 223, 235, 307, 198, 76, 12, 237, 225, 249, 322, 29, 271, 361, 6, 114, 256, 292, 343, 326, 233, 118, 101, 338, 162, 137, 283, 340, 365, 200, 195, 193, 186, 59, 357, 262, 191, 25, 119, 230, 112, 8, 219, 127, 169, 142, 254, 220, 196, 69], \"y\": [48767.93074372843, 37028.90025019726, 6729.510733110032, 53685.632707234734, 52416.54832955569, -2947.2576466926926, 49402.47293256795, 17358.092396172044, 49561.10847977783, 15771.736924073233, 39884.3400999751, 12757.6615270855, 44802.04206348141, 40518.882288814624, 4984.519713801345, 13074.93262150526, 17040.82130175228, 24813.963115036437, 18627.17677385109, 8157.23065799896, 34173.4604004194, 50512.92176303711, 3715.4353361222984, 28779.851795283455, -250.45334412471993, 20848.074434789418, -1360.9021745938853, 44167.499874641886, 36077.086966937975, 25131.234209456197, 35601.180325308334, 26241.683039925363, 38615.25572229606, 47022.939724419746, 32111.19828669095, 43215.686591382604, 6412.239638690271, -2154.0799106432887, 21323.981076419062, 36235.722514147856, 5936.332997060628, 1970.4443168136104, 48926.56629093831, 12440.39043266574, 19737.625604320252, 40201.61119439486, 51147.463951876634, 29097.122889703216, 39567.06900555534, -884.995532964243, 34332.09594762928, 23703.51428456727, 46705.668629999986, 53051.09051839521, 32428.46938111071, 5460.426355430987, -567.7244385444815, 24020.785378987035, 19103.08341548073, 45912.49089395057, 1811.8087696037292, 49085.20183814819, -3740.4353827420964, 53368.36161281497, 4032.70643054206, 29573.029531332857, 25607.140851085842, 6888.146280319914, 51623.370593506275, 34490.73149483916, 27828.03851202417, 45436.58425232093, 29255.758436913096, 50988.828404666754, 17516.727943381924, 28938.487342493336, 41312.06002486404, 23862.14983177715, 13233.568168715145, 6570.875185900151, 35442.54477809844, 38297.9846278763, 18468.541226641206, 15454.465829653473, 47816.11746046915, 26717.589681555004, 35125.27368367868, 1335.9021279740873, 34649.36704204904, 3398.164241702537, 7364.052921949555, 53209.72606560509, 7839.9595635791975, 20372.167793159777, 41946.60221370356, 44326.135421851766, 28145.309606443934, 27034.86077597477, -2629.9865522729315, 11329.941602196574, 18309.905679431326, 20530.803340369657, -91.81779691483916, 46388.397535580225, 30207.571720172386, 38773.89126950594, 13392.203715925025, 40042.97564718498, 23386.24319014751, 8633.1372996286, 34966.6381364688, 24338.056473406796, 37504.8068918269, 35918.451419728095, 21482.616623628943, 10060.857224517527, 9902.221677307647, 13709.474810344786, 42263.87330812332, -409.0888913346007, 18944.44786827085, 10219.49277172741, 48133.38855488891, 39725.70455276522, 12916.29707429538, 41787.96666649368, 10695.39941335705, 42422.5088553332, 50037.01512140747, 25448.50530387596, 40360.246741604744, 16564.91466012264, 41629.3311192838, 19896.261151530132, 1177.266580764207, 23227.60764293763, 38456.62017508618, 26400.318587135243, 37346.17134461702, 8950.408394048363, 19261.71896269061, 8474.50175241872, 22751.70100130799, 22910.33654851787, 17199.45684896216, 33697.553758789756, 53844.268254444614, 3874.0708833321787, 16882.1857545424, 40994.78893044428, 7522.688469159437, 4191.34197775194, 40836.153383234385, 14661.288093604071, 10854.034960566933, 8791.772846838483, 37980.71353345654, 2922.257600072895, 28462.580700863695, 47181.57527162963, 40677.517836024505, 10378.12831893729, 51464.735046296395, 7681.324016369317, -3264.528741112454, 42898.41549696284, 52099.27723513593, 29890.300625752618, 11488.577149406454, 15930.372471283117, 43532.957685802365, 25289.869756666078, 22117.158812468464, 31793.92719227119, 5301.790808221105, 542.7243919246839, 7998.595110789078, -1519.537721803766, 48450.65964930867, 9743.586130097767, 46547.033082790105, 2287.715411233372, 51306.099499086515, 26083.047492715483, -3105.8931939025733, 11805.848243826216, 51782.00614071617, 33380.282664369995, 50830.192857456874, 9267.679488468124, 45595.21979953081, 43057.051044172724, -1995.4443634334082, 2129.0798640234907, 16247.643565702878, 16089.008018492998, 4667.248619381582, 11012.670507776813, 9109.043941258244, 1494.5376751839676, 3080.8931472827753, -726.3599857543622, 41470.69557207392, 16723.55020733252, 11171.306054986693, 31635.29164506131, 33538.918211579876, 44960.67761069129, 27669.40296481429, 8315.86620520884, -1836.8088162235276, 33856.18930599964, 31952.56273948107, 35759.815872518215, 47340.21081883951, 859.9954863444455, 39249.79791113558, 53526.997160024854, -2788.622099482812, 14344.016999184307, 36870.26470298738, 42581.14440254308, 50671.55731024699, 47974.75300767903, 33221.647117160115, 14978.559188023832, 12281.754885455859, 49878.37957419759, 21958.523265258584, 17992.634585011565, 41153.42447765416, 50195.65066861735, 54161.539348864375, 27986.67405923405, 27193.49632318465, 26876.225228764888, 25765.776398295722, 5619.061902640868, 52892.45497118533, 37822.07798624666, 26558.954134345124, 225.45329750492192, 15137.194735233712, 32745.74047553047, 14026.745904764546, -2471.3510050630503, 31000.749456221787, 16406.279112912758, 23068.97209572775, 18785.81232106097, 36552.993608567616, 31159.385003431667, 27352.13187039453, 7205.417374739674]}],                        {\"template\": {\"data\": {\"bar\": [{\"error_x\": {\"color\": \"#2a3f5f\"}, \"error_y\": {\"color\": \"#2a3f5f\"}, \"marker\": {\"line\": {\"color\": \"#E5ECF6\", \"width\": 0.5}}, \"type\": \"bar\"}], \"barpolar\": [{\"marker\": {\"line\": {\"color\": \"#E5ECF6\", \"width\": 0.5}}, \"type\": \"barpolar\"}], \"carpet\": [{\"aaxis\": {\"endlinecolor\": \"#2a3f5f\", \"gridcolor\": \"white\", \"linecolor\": \"white\", \"minorgridcolor\": \"white\", \"startlinecolor\": \"#2a3f5f\"}, \"baxis\": {\"endlinecolor\": \"#2a3f5f\", \"gridcolor\": \"white\", \"linecolor\": \"white\", \"minorgridcolor\": \"white\", \"startlinecolor\": \"#2a3f5f\"}, \"type\": \"carpet\"}], \"choropleth\": [{\"colorbar\": {\"outlinewidth\": 0, \"ticks\": \"\"}, \"type\": \"choropleth\"}], \"contour\": [{\"colorbar\": {\"outlinewidth\": 0, \"ticks\": \"\"}, \"colorscale\": [[0.0, \"#0d0887\"], [0.1111111111111111, \"#46039f\"], [0.2222222222222222, \"#7201a8\"], [0.3333333333333333, \"#9c179e\"], [0.4444444444444444, \"#bd3786\"], [0.5555555555555556, \"#d8576b\"], [0.6666666666666666, \"#ed7953\"], [0.7777777777777778, \"#fb9f3a\"], [0.8888888888888888, \"#fdca26\"], [1.0, \"#f0f921\"]], \"type\": \"contour\"}], \"contourcarpet\": [{\"colorbar\": {\"outlinewidth\": 0, \"ticks\": \"\"}, \"type\": \"contourcarpet\"}], \"heatmap\": [{\"colorbar\": {\"outlinewidth\": 0, \"ticks\": \"\"}, \"colorscale\": [[0.0, \"#0d0887\"], [0.1111111111111111, \"#46039f\"], [0.2222222222222222, \"#7201a8\"], [0.3333333333333333, \"#9c179e\"], [0.4444444444444444, \"#bd3786\"], [0.5555555555555556, \"#d8576b\"], [0.6666666666666666, \"#ed7953\"], [0.7777777777777778, \"#fb9f3a\"], [0.8888888888888888, \"#fdca26\"], [1.0, \"#f0f921\"]], \"type\": \"heatmap\"}], \"heatmapgl\": [{\"colorbar\": {\"outlinewidth\": 0, \"ticks\": \"\"}, \"colorscale\": [[0.0, \"#0d0887\"], [0.1111111111111111, \"#46039f\"], [0.2222222222222222, \"#7201a8\"], [0.3333333333333333, \"#9c179e\"], [0.4444444444444444, \"#bd3786\"], [0.5555555555555556, \"#d8576b\"], [0.6666666666666666, \"#ed7953\"], [0.7777777777777778, \"#fb9f3a\"], [0.8888888888888888, \"#fdca26\"], [1.0, \"#f0f921\"]], \"type\": \"heatmapgl\"}], \"histogram\": [{\"marker\": {\"colorbar\": {\"outlinewidth\": 0, \"ticks\": \"\"}}, \"type\": \"histogram\"}], \"histogram2d\": [{\"colorbar\": {\"outlinewidth\": 0, \"ticks\": \"\"}, \"colorscale\": [[0.0, \"#0d0887\"], [0.1111111111111111, \"#46039f\"], [0.2222222222222222, \"#7201a8\"], [0.3333333333333333, \"#9c179e\"], [0.4444444444444444, \"#bd3786\"], [0.5555555555555556, \"#d8576b\"], [0.6666666666666666, \"#ed7953\"], [0.7777777777777778, \"#fb9f3a\"], [0.8888888888888888, \"#fdca26\"], [1.0, \"#f0f921\"]], \"type\": \"histogram2d\"}], \"histogram2dcontour\": [{\"colorbar\": {\"outlinewidth\": 0, \"ticks\": \"\"}, \"colorscale\": [[0.0, \"#0d0887\"], [0.1111111111111111, \"#46039f\"], [0.2222222222222222, \"#7201a8\"], [0.3333333333333333, \"#9c179e\"], [0.4444444444444444, \"#bd3786\"], [0.5555555555555556, \"#d8576b\"], [0.6666666666666666, \"#ed7953\"], [0.7777777777777778, \"#fb9f3a\"], [0.8888888888888888, \"#fdca26\"], [1.0, \"#f0f921\"]], \"type\": \"histogram2dcontour\"}], \"mesh3d\": [{\"colorbar\": {\"outlinewidth\": 0, \"ticks\": \"\"}, \"type\": \"mesh3d\"}], \"parcoords\": [{\"line\": {\"colorbar\": {\"outlinewidth\": 0, \"ticks\": \"\"}}, \"type\": \"parcoords\"}], \"pie\": [{\"automargin\": true, \"type\": \"pie\"}], \"scatter\": [{\"marker\": {\"colorbar\": {\"outlinewidth\": 0, \"ticks\": \"\"}}, \"type\": \"scatter\"}], \"scatter3d\": [{\"line\": {\"colorbar\": {\"outlinewidth\": 0, \"ticks\": \"\"}}, \"marker\": {\"colorbar\": {\"outlinewidth\": 0, \"ticks\": \"\"}}, \"type\": \"scatter3d\"}], \"scattercarpet\": [{\"marker\": {\"colorbar\": {\"outlinewidth\": 0, \"ticks\": \"\"}}, \"type\": \"scattercarpet\"}], \"scattergeo\": [{\"marker\": {\"colorbar\": {\"outlinewidth\": 0, \"ticks\": \"\"}}, \"type\": \"scattergeo\"}], \"scattergl\": [{\"marker\": {\"colorbar\": {\"outlinewidth\": 0, \"ticks\": \"\"}}, \"type\": \"scattergl\"}], \"scattermapbox\": [{\"marker\": {\"colorbar\": {\"outlinewidth\": 0, \"ticks\": \"\"}}, \"type\": \"scattermapbox\"}], \"scatterpolar\": [{\"marker\": {\"colorbar\": {\"outlinewidth\": 0, \"ticks\": \"\"}}, \"type\": \"scatterpolar\"}], \"scatterpolargl\": [{\"marker\": {\"colorbar\": {\"outlinewidth\": 0, \"ticks\": \"\"}}, \"type\": \"scatterpolargl\"}], \"scatterternary\": [{\"marker\": {\"colorbar\": {\"outlinewidth\": 0, \"ticks\": \"\"}}, \"type\": \"scatterternary\"}], \"surface\": [{\"colorbar\": {\"outlinewidth\": 0, \"ticks\": \"\"}, \"colorscale\": [[0.0, \"#0d0887\"], [0.1111111111111111, \"#46039f\"], [0.2222222222222222, \"#7201a8\"], [0.3333333333333333, \"#9c179e\"], [0.4444444444444444, \"#bd3786\"], [0.5555555555555556, \"#d8576b\"], [0.6666666666666666, \"#ed7953\"], [0.7777777777777778, \"#fb9f3a\"], [0.8888888888888888, \"#fdca26\"], [1.0, \"#f0f921\"]], \"type\": \"surface\"}], \"table\": [{\"cells\": {\"fill\": {\"color\": \"#EBF0F8\"}, \"line\": {\"color\": \"white\"}}, \"header\": {\"fill\": {\"color\": \"#C8D4E3\"}, \"line\": {\"color\": \"white\"}}, \"type\": \"table\"}]}, \"layout\": {\"annotationdefaults\": {\"arrowcolor\": \"#2a3f5f\", \"arrowhead\": 0, \"arrowwidth\": 1}, \"autotypenumbers\": \"strict\", \"coloraxis\": {\"colorbar\": {\"outlinewidth\": 0, \"ticks\": \"\"}}, \"colorscale\": {\"diverging\": [[0, \"#8e0152\"], [0.1, \"#c51b7d\"], [0.2, \"#de77ae\"], [0.3, \"#f1b6da\"], [0.4, \"#fde0ef\"], [0.5, \"#f7f7f7\"], [0.6, \"#e6f5d0\"], [0.7, \"#b8e186\"], [0.8, \"#7fbc41\"], [0.9, \"#4d9221\"], [1, \"#276419\"]], \"sequential\": [[0.0, \"#0d0887\"], [0.1111111111111111, \"#46039f\"], [0.2222222222222222, \"#7201a8\"], [0.3333333333333333, \"#9c179e\"], [0.4444444444444444, \"#bd3786\"], [0.5555555555555556, \"#d8576b\"], [0.6666666666666666, \"#ed7953\"], [0.7777777777777778, \"#fb9f3a\"], [0.8888888888888888, \"#fdca26\"], [1.0, \"#f0f921\"]], \"sequentialminus\": [[0.0, \"#0d0887\"], [0.1111111111111111, \"#46039f\"], [0.2222222222222222, \"#7201a8\"], [0.3333333333333333, \"#9c179e\"], [0.4444444444444444, \"#bd3786\"], [0.5555555555555556, \"#d8576b\"], [0.6666666666666666, \"#ed7953\"], [0.7777777777777778, \"#fb9f3a\"], [0.8888888888888888, \"#fdca26\"], [1.0, \"#f0f921\"]]}, \"colorway\": [\"#636efa\", \"#EF553B\", \"#00cc96\", \"#ab63fa\", \"#FFA15A\", \"#19d3f3\", \"#FF6692\", \"#B6E880\", \"#FF97FF\", \"#FECB52\"], \"font\": {\"color\": \"#2a3f5f\"}, \"geo\": {\"bgcolor\": \"white\", \"lakecolor\": \"white\", \"landcolor\": \"#E5ECF6\", \"showlakes\": true, \"showland\": true, \"subunitcolor\": \"white\"}, \"hoverlabel\": {\"align\": \"left\"}, \"hovermode\": \"closest\", \"mapbox\": {\"style\": \"light\"}, \"paper_bgcolor\": \"white\", \"plot_bgcolor\": \"#E5ECF6\", \"polar\": {\"angularaxis\": {\"gridcolor\": \"white\", \"linecolor\": \"white\", \"ticks\": \"\"}, \"bgcolor\": \"#E5ECF6\", \"radialaxis\": {\"gridcolor\": \"white\", \"linecolor\": \"white\", \"ticks\": \"\"}}, \"scene\": {\"xaxis\": {\"backgroundcolor\": \"#E5ECF6\", \"gridcolor\": \"white\", \"gridwidth\": 2, \"linecolor\": \"white\", \"showbackground\": true, \"ticks\": \"\", \"zerolinecolor\": \"white\"}, \"yaxis\": {\"backgroundcolor\": \"#E5ECF6\", \"gridcolor\": \"white\", \"gridwidth\": 2, \"linecolor\": \"white\", \"showbackground\": true, \"ticks\": \"\", \"zerolinecolor\": \"white\"}, \"zaxis\": {\"backgroundcolor\": \"#E5ECF6\", \"gridcolor\": \"white\", \"gridwidth\": 2, \"linecolor\": \"white\", \"showbackground\": true, \"ticks\": \"\", \"zerolinecolor\": \"white\"}}, \"shapedefaults\": {\"line\": {\"color\": \"#2a3f5f\"}}, \"ternary\": {\"aaxis\": {\"gridcolor\": \"white\", \"linecolor\": \"white\", \"ticks\": \"\"}, \"baxis\": {\"gridcolor\": \"white\", \"linecolor\": \"white\", \"ticks\": \"\"}, \"bgcolor\": \"#E5ECF6\", \"caxis\": {\"gridcolor\": \"white\", \"linecolor\": \"white\", \"ticks\": \"\"}}, \"title\": {\"x\": 0.05}, \"xaxis\": {\"automargin\": true, \"gridcolor\": \"white\", \"linecolor\": \"white\", \"ticks\": \"\", \"title\": {\"standoff\": 15}, \"zerolinecolor\": \"white\", \"zerolinewidth\": 2}, \"yaxis\": {\"automargin\": true, \"gridcolor\": \"white\", \"linecolor\": \"white\", \"ticks\": \"\", \"title\": {\"standoff\": 15}, \"zerolinecolor\": \"white\", \"zerolinewidth\": 2}}}, \"title\": {\"text\": \"Stock Prices of Bitcoin\"}, \"xaxis\": {\"title\": {\"font\": {\"color\": \"#7f7f7f\", \"size\": 18}, \"text\": \"Date\"}}, \"yaxis\": {\"title\": {\"font\": {\"color\": \"#7f7f7f\", \"size\": 18}, \"text\": \"Price\"}}},                        {\"responsive\": true}                    ).then(function(){\n",
       "                            \n",
       "var gd = document.getElementById('82c40ea6-ad40-44a4-b486-d2edc69083eb');\n",
       "var x = new MutationObserver(function (mutations, observer) {{\n",
       "        var display = window.getComputedStyle(gd).display;\n",
       "        if (!display || display === 'none') {{\n",
       "            console.log([gd, 'removed!']);\n",
       "            Plotly.purge(gd);\n",
       "            observer.disconnect();\n",
       "        }}\n",
       "}});\n",
       "\n",
       "// Listen for the removal of the full notebook cells\n",
       "var notebookContainer = gd.closest('#notebook-container');\n",
       "if (notebookContainer) {{\n",
       "    x.observe(notebookContainer, {childList: true});\n",
       "}}\n",
       "\n",
       "// Listen for the clearing of the current output cell\n",
       "var outputEl = gd.closest('.output');\n",
       "if (outputEl) {{\n",
       "    x.observe(outputEl, {childList: true});\n",
       "}}\n",
       "\n",
       "                        })                };                });            </script>        </div>"
      ]
     },
     "metadata": {},
     "output_type": "display_data"
    }
   ],
   "source": [
    "iplot(plot2)"
   ]
  },
  {
   "cell_type": "code",
   "execution_count": 25,
   "metadata": {},
   "outputs": [
    {
     "name": "stdout",
     "output_type": "stream",
     "text": [
      "\n",
      "Metric           Train                Test        \n",
      "r2_score  0.8238374936558068\t0.7974690305861977\n",
      "MSE       60690195.184063405\t64503749.90560496\n",
      "\n"
     ]
    }
   ],
   "source": [
    "score=f'''\n",
    "{'Metric'.ljust(10)}{'Train'.center(20)}{'Test'.center(20)}\n",
    "{'r2_score'.ljust(10)}{r2_score(y_train,lr.predict(x_train))}\\t{r2_score(y_test,lr.predict(x_test))}\n",
    "{'MSE'.ljust(10)}{mse(y_train,lr.predict(x_train))}\\t{mse(y_test,lr.predict(x_test))}\n",
    "'''\n",
    "\n",
    "print(score)"
   ]
  }
 ],
 "metadata": {
  "kernelspec": {
   "display_name": "Python 3",
   "language": "python",
   "name": "python3"
  },
  "language_info": {
   "codemirror_mode": {
    "name": "ipython",
    "version": 3
   },
   "file_extension": ".py",
   "mimetype": "text/x-python",
   "name": "python",
   "nbconvert_exporter": "python",
   "pygments_lexer": "ipython3",
   "version": "3.8.3"
  }
 },
 "nbformat": 4,
 "nbformat_minor": 4
}
